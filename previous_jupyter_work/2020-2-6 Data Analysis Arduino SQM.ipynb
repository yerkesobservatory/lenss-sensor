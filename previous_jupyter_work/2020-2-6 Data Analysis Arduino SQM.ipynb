{
 "nbformat": 4,
 "nbformat_minor": 0,
 "metadata": {
  "kernelspec": {
   "display_name": "Python 3",
   "language": "python",
   "name": "python3"
  },
  "language_info": {
   "codemirror_mode": {
    "name": "ipython",
    "version": 3
   },
   "file_extension": ".py",
   "mimetype": "text/x-python",
   "name": "python",
   "nbconvert_exporter": "python",
   "pygments_lexer": "ipython3",
   "version": "3.7.3"
  },
  "colab": {
   "name": "2020-2-6 Data Analysis Arduino SQM.ipynb",
   "provenance": []
  }
 },
 "cells": [
  {
   "cell_type": "markdown",
   "metadata": {
    "id": "8tdBwXr0wyxU"
   },
   "source": [
    "# Notebook to parse the Feb 6 data from Arduino and SQM sensors"
   ]
  },
  {
   "cell_type": "code",
   "metadata": {
    "id": "d4J7lYO1wyxV",
    "outputId": "6a6a8bf4-5d8b-4b96-904e-a45c2f4207de",
    "executionInfo": {
     "status": "ok",
     "timestamp": 1588882796338,
     "user_tz": 300,
     "elapsed": 486,
     "user": {
      "displayName": "Adam McCulloch",
      "photoUrl": "https://lh3.googleusercontent.com/a-/AOh14GgZbdmvJSdT63asgp4vyIj24xYl4WW7Vq2CYrXTkag2-TA_0Ilww75fEV38UNocE-nrUOKsmecaWRcz_gxGM9S4xdWSoDXCwsZEFVzAzUSQm5eCS6iojeV3xAevxKuBW14XPxCruiJ9pm3aWl-GQ_qq8Nb2yyvfvzjDY1NUhLMbcuyvv3QIRE1QwraqDEyw27_HF60u4RfvJzlNk-s2-c00i1vJvCq9dFeCpp60GodtcdlIntF6OnUeirEBw3xcsNk_zfBxaD7Txp2NtDufgGLAK5uF_A4vGsB2DXBeFaGIFdUro78QaG1WyrTxnNDs-53vPqIQdSRUXLaFQOCXpeDgAiPG3y8wNaI3PZYgy3mqJgVlayZR-fZBoSuM3IvN_gO237lkMpeKnvblowZeRYOcNHtUGSAon3g6eAiVAOirg31ytBcerGKfrpzlh9sL0jg50xQKRlVWeLmEf8ug62Gtq1cgu2Fkwi2auY_TUjFP8iiNV1wXazW8Bz5dlz9-ZrFfkERRbJ2PRiWqA6lbdHarbrplNsrI3rzCXwyCVyvD0mWo-Fj4jmXFD7JAYOCBEUpxEZeG6D3n_wyldjnhuXnJ2wdquRA5PcEJ-prSjwi1p2_JYRbZU2vsQGANTi31-ZwfGCvU0M618pokwUrgeH8PIHsZEwG0RCcakm5_OiSpJh8_S3m7hHTv5KbAIaifA9aYHVxnza9HsfzoXEYqxlgl6oOBqatGy2zgeqW6d8FzWIAmNOZ5RnM1YZ6w6d0MLmnTJA=s64",
      "userId": "12519374162247550309"
     }
    },
    "colab": {
     "base_uri": "https://localhost:8080/",
     "height": 34
    }
   },
   "source": [
    "%pylab inline"
   ],
   "execution_count": null,
   "outputs": [
    {
     "output_type": "stream",
     "text": [
      "Populating the interactive namespace from numpy and matplotlib\n"
     ],
     "name": "stdout"
    }
   ]
  },
  {
   "cell_type": "code",
   "metadata": {
    "id": "3T9CLeUB2PmM",
    "outputId": "2929f13e-8233-4d1b-ff60-f2e1f76db09c",
    "executionInfo": {
     "status": "error",
     "timestamp": 1654616611415,
     "user_tz": 300,
     "elapsed": 49,
     "user": {
      "displayName": "Alex Scerba",
      "userId": "09496144583296645527"
     }
    },
    "colab": {
     "base_uri": "https://localhost:8080/",
     "height": 330
    }
   },
   "source": [
    "from google.colab import drive\n",
    "\n",
    "drive.mount(\"/content/drive/LENSS/Data/Sensors Data/2022-06\")"
   ],
   "execution_count": 1,
   "outputs": [
    {
     "output_type": "error",
     "ename": "ValueError",
     "evalue": "ignored",
     "traceback": [
      "\u001b[0;31m---------------------------------------------------------------------------\u001b[0m",
      "\u001b[0;31mValueError\u001b[0m                                Traceback (most recent call last)",
      "\u001b[0;32m<ipython-input-1-7b98135d9ede>\u001b[0m in \u001b[0;36m<module>\u001b[0;34m()\u001b[0m\n\u001b[1;32m      1\u001b[0m \u001b[0;32mfrom\u001b[0m \u001b[0mgoogle\u001b[0m\u001b[0;34m.\u001b[0m\u001b[0mcolab\u001b[0m \u001b[0;32mimport\u001b[0m \u001b[0mdrive\u001b[0m\u001b[0;34m\u001b[0m\u001b[0;34m\u001b[0m\u001b[0m\n\u001b[0;32m----> 2\u001b[0;31m \u001b[0mdrive\u001b[0m\u001b[0;34m.\u001b[0m\u001b[0mmount\u001b[0m\u001b[0;34m(\u001b[0m\u001b[0;34m'/content/drive/LENSS/Data/Sensors Data/2022-06'\u001b[0m\u001b[0;34m)\u001b[0m\u001b[0;34m\u001b[0m\u001b[0;34m\u001b[0m\u001b[0m\n\u001b[0m",
      "\u001b[0;32m/usr/local/lib/python3.7/dist-packages/google/colab/drive.py\u001b[0m in \u001b[0;36mmount\u001b[0;34m(mountpoint, force_remount, timeout_ms)\u001b[0m\n\u001b[1;32m    107\u001b[0m       \u001b[0mforce_remount\u001b[0m\u001b[0;34m=\u001b[0m\u001b[0mforce_remount\u001b[0m\u001b[0;34m,\u001b[0m\u001b[0;34m\u001b[0m\u001b[0;34m\u001b[0m\u001b[0m\n\u001b[1;32m    108\u001b[0m       \u001b[0mtimeout_ms\u001b[0m\u001b[0;34m=\u001b[0m\u001b[0mtimeout_ms\u001b[0m\u001b[0;34m,\u001b[0m\u001b[0;34m\u001b[0m\u001b[0;34m\u001b[0m\u001b[0m\n\u001b[0;32m--> 109\u001b[0;31m       ephemeral=True)\n\u001b[0m\u001b[1;32m    110\u001b[0m \u001b[0;34m\u001b[0m\u001b[0m\n\u001b[1;32m    111\u001b[0m \u001b[0;34m\u001b[0m\u001b[0m\n",
      "\u001b[0;32m/usr/local/lib/python3.7/dist-packages/google/colab/drive.py\u001b[0m in \u001b[0;36m_mount\u001b[0;34m(mountpoint, force_remount, timeout_ms, ephemeral)\u001b[0m\n\u001b[1;32m    116\u001b[0m \u001b[0;34m\u001b[0m\u001b[0m\n\u001b[1;32m    117\u001b[0m   \u001b[0;32mif\u001b[0m \u001b[0;34m' '\u001b[0m \u001b[0;32min\u001b[0m \u001b[0mmountpoint\u001b[0m\u001b[0;34m:\u001b[0m\u001b[0;34m\u001b[0m\u001b[0;34m\u001b[0m\u001b[0m\n\u001b[0;32m--> 118\u001b[0;31m     \u001b[0;32mraise\u001b[0m \u001b[0mValueError\u001b[0m\u001b[0;34m(\u001b[0m\u001b[0;34m'Mountpoint must not contain a space.'\u001b[0m\u001b[0;34m)\u001b[0m\u001b[0;34m\u001b[0m\u001b[0;34m\u001b[0m\u001b[0m\n\u001b[0m\u001b[1;32m    119\u001b[0m \u001b[0;34m\u001b[0m\u001b[0m\n\u001b[1;32m    120\u001b[0m   metadata_server_addr = _os.environ[\n",
      "\u001b[0;31mValueError\u001b[0m: Mountpoint must not contain a space."
     ]
    }
   ]
  },
  {
   "cell_type": "code",
   "metadata": {
    "id": "s50iaVBuwyxZ"
   },
   "source": [
    "# This parses the paths\n",
    "import glob"
   ],
   "execution_count": null,
   "outputs": []
  },
  {
   "cell_type": "code",
   "metadata": {
    "id": "eE7xI28iwyxb"
   },
   "source": [
    "# This is an astronomy package that is pretty convenient for i/o\n",
    "import astropy.table"
   ],
   "execution_count": null,
   "outputs": []
  },
  {
   "cell_type": "code",
   "metadata": {
    "id": "Sd4gAMmgwyxd"
   },
   "source": [
    "fnames = glob.glob(\n",
    "    \"/My Drive/LENSS/Data/Sensors Data/2020-02-20/ardata_2020-02-20.txt\"\n",
    ")"
   ],
   "execution_count": null,
   "outputs": []
  },
  {
   "cell_type": "code",
   "metadata": {
    "id": "RTiiSn0bwyxf"
   },
   "source": [
    "# We are going to read with Pandas\n",
    "import pandas as pd"
   ],
   "execution_count": null,
   "outputs": []
  },
  {
   "cell_type": "code",
   "metadata": {
    "id": "F22Rhzowwyxh"
   },
   "source": [
    "tab = []\n",
    "for fname in fnames:\n",
    "    tab.append(pd.read_table(fname, names=\"t\"))"
   ],
   "execution_count": null,
   "outputs": []
  },
  {
   "cell_type": "code",
   "metadata": {
    "id": "wlXpQK4uwyxk"
   },
   "source": [
    "import re"
   ],
   "execution_count": null,
   "outputs": []
  },
  {
   "cell_type": "code",
   "metadata": {
    "id": "UC-9mSg2wyxm"
   },
   "source": [
    "# Each row is a string and has several parts with units.\n",
    "# We split each string in value and units and get rid of the units\n",
    "def get_rid_of_units(s):\n",
    "    for i, c in enumerate(s):\n",
    "        if (c.isdigit() == False) & (c != \" \") & (c != \".\"):\n",
    "            return float(s[:i])"
   ],
   "execution_count": null,
   "outputs": []
  },
  {
   "cell_type": "code",
   "metadata": {
    "id": "z85nqo9mwyxo",
    "outputId": "729fea9f-90ee-4912-cb28-520e89f0bf07",
    "executionInfo": {
     "status": "ok",
     "timestamp": 1588883910500,
     "user_tz": 300,
     "elapsed": 373,
     "user": {
      "displayName": "Adam McCulloch",
      "photoUrl": "https://lh3.googleusercontent.com/a-/AOh14GgZbdmvJSdT63asgp4vyIj24xYl4WW7Vq2CYrXTkag2-TA_0Ilww75fEV38UNocE-nrUOKsmecaWRcz_gxGM9S4xdWSoDXCwsZEFVzAzUSQm5eCS6iojeV3xAevxKuBW14XPxCruiJ9pm3aWl-GQ_qq8Nb2yyvfvzjDY1NUhLMbcuyvv3QIRE1QwraqDEyw27_HF60u4RfvJzlNk-s2-c00i1vJvCq9dFeCpp60GodtcdlIntF6OnUeirEBw3xcsNk_zfBxaD7Txp2NtDufgGLAK5uF_A4vGsB2DXBeFaGIFdUro78QaG1WyrTxnNDs-53vPqIQdSRUXLaFQOCXpeDgAiPG3y8wNaI3PZYgy3mqJgVlayZR-fZBoSuM3IvN_gO237lkMpeKnvblowZeRYOcNHtUGSAon3g6eAiVAOirg31ytBcerGKfrpzlh9sL0jg50xQKRlVWeLmEf8ug62Gtq1cgu2Fkwi2auY_TUjFP8iiNV1wXazW8Bz5dlz9-ZrFfkERRbJ2PRiWqA6lbdHarbrplNsrI3rzCXwyCVyvD0mWo-Fj4jmXFD7JAYOCBEUpxEZeG6D3n_wyldjnhuXnJ2wdquRA5PcEJ-prSjwi1p2_JYRbZU2vsQGANTi31-ZwfGCvU0M618pokwUrgeH8PIHsZEwG0RCcakm5_OiSpJh8_S3m7hHTv5KbAIaifA9aYHVxnza9HsfzoXEYqxlgl6oOBqatGy2zgeqW6d8FzWIAmNOZ5RnM1YZ6w6d0MLmnTJA=s64",
      "userId": "12519374162247550309"
     }
    },
    "colab": {
     "base_uri": "https://localhost:8080/",
     "height": 34
    }
   },
   "source": [
    "# Test the function\n",
    "get_rid_of_units(\"0000062002Hz\")"
   ],
   "execution_count": null,
   "outputs": [
    {
     "output_type": "execute_result",
     "data": {
      "text/plain": [
       "62002.0"
      ]
     },
     "metadata": {
      "tags": []
     },
     "execution_count": 20
    }
   ]
  },
  {
   "cell_type": "code",
   "metadata": {
    "id": "WGh6WiJQwyxq"
   },
   "source": [
    "# We are going to dump the data into a dictionary and then convert to astropy table\n",
    "data = dict()"
   ],
   "execution_count": null,
   "outputs": []
  },
  {
   "cell_type": "code",
   "metadata": {
    "id": "dQhKMa1ywyxs"
   },
   "source": [
    "# The keys of the dictionary are going to be the name of the columns\n",
    "keys = [\"time\", \"freq\", \"col3\", \"col4\", \"temp\"]"
   ],
   "execution_count": null,
   "outputs": []
  },
  {
   "cell_type": "code",
   "metadata": {
    "id": "0qFAeduhwyxv"
   },
   "source": [
    "# Initialize the dictionary with empty lists for each key\n",
    "for key in keys:\n",
    "    data[key] = []"
   ],
   "execution_count": null,
   "outputs": []
  },
  {
   "cell_type": "code",
   "metadata": {
    "id": "kT8wsIOAwyxx",
    "outputId": "22869a00-6867-4380-a436-b7382f905dbb",
    "executionInfo": {
     "status": "error",
     "timestamp": 1588883914465,
     "user_tz": 300,
     "elapsed": 363,
     "user": {
      "displayName": "Adam McCulloch",
      "photoUrl": "https://lh3.googleusercontent.com/a-/AOh14GgZbdmvJSdT63asgp4vyIj24xYl4WW7Vq2CYrXTkag2-TA_0Ilww75fEV38UNocE-nrUOKsmecaWRcz_gxGM9S4xdWSoDXCwsZEFVzAzUSQm5eCS6iojeV3xAevxKuBW14XPxCruiJ9pm3aWl-GQ_qq8Nb2yyvfvzjDY1NUhLMbcuyvv3QIRE1QwraqDEyw27_HF60u4RfvJzlNk-s2-c00i1vJvCq9dFeCpp60GodtcdlIntF6OnUeirEBw3xcsNk_zfBxaD7Txp2NtDufgGLAK5uF_A4vGsB2DXBeFaGIFdUro78QaG1WyrTxnNDs-53vPqIQdSRUXLaFQOCXpeDgAiPG3y8wNaI3PZYgy3mqJgVlayZR-fZBoSuM3IvN_gO237lkMpeKnvblowZeRYOcNHtUGSAon3g6eAiVAOirg31ytBcerGKfrpzlh9sL0jg50xQKRlVWeLmEf8ug62Gtq1cgu2Fkwi2auY_TUjFP8iiNV1wXazW8Bz5dlz9-ZrFfkERRbJ2PRiWqA6lbdHarbrplNsrI3rzCXwyCVyvD0mWo-Fj4jmXFD7JAYOCBEUpxEZeG6D3n_wyldjnhuXnJ2wdquRA5PcEJ-prSjwi1p2_JYRbZU2vsQGANTi31-ZwfGCvU0M618pokwUrgeH8PIHsZEwG0RCcakm5_OiSpJh8_S3m7hHTv5KbAIaifA9aYHVxnza9HsfzoXEYqxlgl6oOBqatGy2zgeqW6d8FzWIAmNOZ5RnM1YZ6w6d0MLmnTJA=s64",
      "userId": "12519374162247550309"
     }
    },
    "colab": {
     "base_uri": "https://localhost:8080/",
     "height": 215
    }
   },
   "source": [
    "# Now we parse the SQM file\n",
    "for row in tab[0][1::2][\"t\"].values:\n",
    "    csvalues = row.split(\",\")[1:]\n",
    "    for i, val in enumerate(csvalues):\n",
    "        data[keys[i]].append(get_rid_of_units(val))"
   ],
   "execution_count": null,
   "outputs": [
    {
     "output_type": "error",
     "ename": "IndexError",
     "evalue": "ignored",
     "traceback": [
      "\u001b[0;31m---------------------------------------------------------------------------\u001b[0m",
      "\u001b[0;31mIndexError\u001b[0m                                Traceback (most recent call last)",
      "\u001b[0;32m<ipython-input-24-cb01cf08eee3>\u001b[0m in \u001b[0;36m<module>\u001b[0;34m()\u001b[0m\n\u001b[0;32m----> 1\u001b[0;31m \u001b[0;32mfor\u001b[0m \u001b[0mrow\u001b[0m \u001b[0;32min\u001b[0m \u001b[0mtab\u001b[0m\u001b[0;34m[\u001b[0m\u001b[0;36m0\u001b[0m\u001b[0;34m]\u001b[0m\u001b[0;34m[\u001b[0m\u001b[0;36m1\u001b[0m\u001b[0;34m:\u001b[0m\u001b[0;34m:\u001b[0m\u001b[0;36m2\u001b[0m\u001b[0;34m]\u001b[0m\u001b[0;34m[\u001b[0m\u001b[0;34m't'\u001b[0m\u001b[0;34m]\u001b[0m\u001b[0;34m.\u001b[0m\u001b[0mvalues\u001b[0m\u001b[0;34m:\u001b[0m\u001b[0;34m\u001b[0m\u001b[0;34m\u001b[0m\u001b[0m\n\u001b[0m\u001b[1;32m      2\u001b[0m     \u001b[0mcsvalues\u001b[0m \u001b[0;34m=\u001b[0m \u001b[0mrow\u001b[0m\u001b[0;34m.\u001b[0m\u001b[0msplit\u001b[0m\u001b[0;34m(\u001b[0m\u001b[0;34m','\u001b[0m\u001b[0;34m)\u001b[0m\u001b[0;34m[\u001b[0m\u001b[0;36m1\u001b[0m\u001b[0;34m:\u001b[0m\u001b[0;34m]\u001b[0m\u001b[0;34m\u001b[0m\u001b[0;34m\u001b[0m\u001b[0m\n\u001b[1;32m      3\u001b[0m     \u001b[0;32mfor\u001b[0m \u001b[0mi\u001b[0m\u001b[0;34m,\u001b[0m \u001b[0mval\u001b[0m \u001b[0;32min\u001b[0m \u001b[0menumerate\u001b[0m\u001b[0;34m(\u001b[0m\u001b[0mcsvalues\u001b[0m\u001b[0;34m)\u001b[0m\u001b[0;34m:\u001b[0m\u001b[0;34m\u001b[0m\u001b[0;34m\u001b[0m\u001b[0m\n\u001b[1;32m      4\u001b[0m         \u001b[0mdata\u001b[0m\u001b[0;34m[\u001b[0m\u001b[0mkeys\u001b[0m\u001b[0;34m[\u001b[0m\u001b[0mi\u001b[0m\u001b[0;34m]\u001b[0m\u001b[0;34m]\u001b[0m\u001b[0;34m.\u001b[0m\u001b[0mappend\u001b[0m\u001b[0;34m(\u001b[0m\u001b[0mget_rid_of_units\u001b[0m\u001b[0;34m(\u001b[0m\u001b[0mval\u001b[0m\u001b[0;34m)\u001b[0m\u001b[0;34m)\u001b[0m\u001b[0;34m\u001b[0m\u001b[0;34m\u001b[0m\u001b[0m\n",
      "\u001b[0;31mIndexError\u001b[0m: list index out of range"
     ]
    }
   ]
  },
  {
   "cell_type": "code",
   "metadata": {
    "id": "FaXAoYtuwyxy"
   },
   "source": [
    "# And dump it into a table\n",
    "tab2 = astropy.table.Table(data)"
   ],
   "execution_count": null,
   "outputs": []
  },
  {
   "cell_type": "code",
   "metadata": {
    "id": "12PgEN0lwyx0"
   },
   "source": [
    "# And write as csv\n",
    "tab2.write(\"Feb6_2020_data_SLQM.csv\", format=\"ascii.csv\")"
   ],
   "execution_count": null,
   "outputs": []
  },
  {
   "cell_type": "code",
   "metadata": {
    "id": "vwBDANi8wyx2",
    "outputId": "edf40643-ac1b-4b2f-e90a-65139439a6b0"
   },
   "source": [
    "# Check the values\n",
    "plt.figure(figsize=(6, 4))\n",
    "plt.plot(tab2[\"time\"], tab2[\"freq\"])\n",
    "plt.xlabel(\"Time [mins]\", fontsize=16)\n",
    "plt.ylabel(\"Frequency [Hz]\", fontsize=16)\n",
    "# plt.loglog()"
   ],
   "execution_count": null,
   "outputs": [
    {
     "output_type": "execute_result",
     "data": {
      "text/plain": [
       "Text(0, 0.5, 'Frequency [Hz]')"
      ]
     },
     "metadata": {
      "tags": []
     },
     "execution_count": 183
    },
    {
     "output_type": "display_data",
     "data": {
      "image/png": "[encoded data removed]",
      "text/plain": [
       "<Figure size 432x288 with 1 Axes>"
      ]
     },
     "metadata": {
      "tags": [],
      "needs_background": "light"
     }
    }
   ]
  },
  {
   "cell_type": "code",
   "metadata": {
    "id": "xjT2L_NGwyx4",
    "outputId": "5db6bc68-c2da-43d3-bd96-404b539fc030"
   },
   "source": [
    "# Another plot\n",
    "plt.plot(tab2[\"time\"], tab2[\"temp\"])\n",
    "plt.xlabel(\"Time [mins]\", fontsize=16)\n",
    "plt.ylabel(r\"Temperature [$^{\\circ}$ C]\", fontsize=16)\n",
    "# plt.loglog()"
   ],
   "execution_count": null,
   "outputs": [
    {
     "output_type": "execute_result",
     "data": {
      "text/plain": [
       "Text(0, 0.5, 'Temperature [$^{\\\\circ}$ C]')"
      ]
     },
     "metadata": {
      "tags": []
     },
     "execution_count": 184
    },
    {
     "output_type": "display_data",
     "data": {
      "image/png": "[encoded data removed]",
      "text/plain": [
       "<Figure size 432x288 with 1 Axes>"
      ]
     },
     "metadata": {
      "tags": [],
      "needs_background": "light"
     }
    }
   ]
  },
  {
   "cell_type": "code",
   "metadata": {
    "id": "F2sY6_SLwyx6"
   },
   "source": [
    "# Read the Arduino data table\n",
    "tab4 = pd.read_table(fnames[-1], names=(\"a\", \"b\"))"
   ],
   "execution_count": null,
   "outputs": []
  },
  {
   "cell_type": "code",
   "metadata": {
    "id": "DLbvWxsGwyx8",
    "outputId": "0da504e2-504d-4d5e-f93b-aec0695cbe7c"
   },
   "source": [
    "# Check it out\n",
    "tab4"
   ],
   "execution_count": null,
   "outputs": [
    {
     "output_type": "execute_result",
     "data": {
      "text/html": [
       "<div>\n",
       "<style scoped>\n",
       "    .dataframe tbody tr th:only-of-type {\n",
       "        vertical-align: middle;\n",
       "    }\n",
       "\n",
       "    .dataframe tbody tr th {\n",
       "        vertical-align: top;\n",
       "    }\n",
       "\n",
       "    .dataframe thead th {\n",
       "        text-align: right;\n",
       "    }\n",
       "</style>\n",
       "<table border=\"1\" class=\"dataframe\">\n",
       "  <thead>\n",
       "    <tr style=\"text-align: right;\">\n",
       "      <th></th>\n",
       "      <th>a</th>\n",
       "      <th>b</th>\n",
       "    </tr>\n",
       "  </thead>\n",
       "  <tbody>\n",
       "    <tr>\n",
       "      <th>0</th>\n",
       "      <td>START</td>\n",
       "      <td>NaN</td>\n",
       "    </tr>\n",
       "    <tr>\n",
       "      <th>1</th>\n",
       "      <td>3.17 light volts | FREQ: 0</td>\n",
       "      <td>0.67 temp volts; 16.89 degrees C; 62.41 degrees F</td>\n",
       "    </tr>\n",
       "    <tr>\n",
       "      <th>2</th>\n",
       "      <td>3.17 light volts | FREQ: 0</td>\n",
       "      <td>0.67 temp volts; 16.89 degrees C; 62.41 degrees F</td>\n",
       "    </tr>\n",
       "    <tr>\n",
       "      <th>3</th>\n",
       "      <td>3.17 light volts | FREQ: 0</td>\n",
       "      <td>0.66 temp volts; 16.41 degrees C; 61.53 degrees F</td>\n",
       "    </tr>\n",
       "    <tr>\n",
       "      <th>4</th>\n",
       "      <td>3.17 light volts | FREQ: 0</td>\n",
       "      <td>0.67 temp volts; 17.38 degrees C; 63.29 degrees F</td>\n",
       "    </tr>\n",
       "    <tr>\n",
       "      <th>...</th>\n",
       "      <td>...</td>\n",
       "      <td>...</td>\n",
       "    </tr>\n",
       "    <tr>\n",
       "      <th>1956</th>\n",
       "      <td>0.74 light volts | FREQ: 752</td>\n",
       "      <td>0.51 temp volts; 0.78 degrees C; 33.41 degrees F</td>\n",
       "    </tr>\n",
       "    <tr>\n",
       "      <th>1957</th>\n",
       "      <td>0.74 light volts | FREQ: 749</td>\n",
       "      <td>0.51 temp volts; 0.78 degrees C; 33.41 degrees F</td>\n",
       "    </tr>\n",
       "    <tr>\n",
       "      <th>1958</th>\n",
       "      <td>0.74 light volts | FREQ: 748</td>\n",
       "      <td>0.51 temp volts; 0.78 degrees C; 33.41 degrees F</td>\n",
       "    </tr>\n",
       "    <tr>\n",
       "      <th>1959</th>\n",
       "      <td>0.73 light volts | FREQ: 744</td>\n",
       "      <td>0.51 temp volts; 0.78 degrees C; 33.41 degrees F</td>\n",
       "    </tr>\n",
       "    <tr>\n",
       "      <th>1960</th>\n",
       "      <td>0.74 light volts | FREQ: 743</td>\n",
       "      <td>0.50 temp volts; 0.29 degrees C; 32.53 degrees F</td>\n",
       "    </tr>\n",
       "  </tbody>\n",
       "</table>\n",
       "<p>1961 rows × 2 columns</p>\n",
       "</div>"
      ],
      "text/plain": [
       "                                 a  \\\n",
       "0                            START   \n",
       "1       3.17 light volts | FREQ: 0   \n",
       "2       3.17 light volts | FREQ: 0   \n",
       "3       3.17 light volts | FREQ: 0   \n",
       "4       3.17 light volts | FREQ: 0   \n",
       "...                            ...   \n",
       "1956  0.74 light volts | FREQ: 752   \n",
       "1957  0.74 light volts | FREQ: 749   \n",
       "1958  0.74 light volts | FREQ: 748   \n",
       "1959  0.73 light volts | FREQ: 744   \n",
       "1960  0.74 light volts | FREQ: 743   \n",
       "\n",
       "                                                      b  \n",
       "0                                                   NaN  \n",
       "1     0.67 temp volts; 16.89 degrees C; 62.41 degrees F  \n",
       "2     0.67 temp volts; 16.89 degrees C; 62.41 degrees F  \n",
       "3     0.66 temp volts; 16.41 degrees C; 61.53 degrees F  \n",
       "4     0.67 temp volts; 17.38 degrees C; 63.29 degrees F  \n",
       "...                                                 ...  \n",
       "1956   0.51 temp volts; 0.78 degrees C; 33.41 degrees F  \n",
       "1957   0.51 temp volts; 0.78 degrees C; 33.41 degrees F  \n",
       "1958   0.51 temp volts; 0.78 degrees C; 33.41 degrees F  \n",
       "1959   0.51 temp volts; 0.78 degrees C; 33.41 degrees F  \n",
       "1960   0.50 temp volts; 0.29 degrees C; 32.53 degrees F  \n",
       "\n",
       "[1961 rows x 2 columns]"
      ]
     },
     "metadata": {
      "tags": []
     },
     "execution_count": 135
    }
   ]
  },
  {
   "cell_type": "code",
   "metadata": {
    "id": "BaSwdcWNwyx-"
   },
   "source": [
    "# Split it to put it in csv format\n",
    "data2 = dict()\n",
    "keys = [\"voltage_light\", \"freq\", \"voltage_temp\", \"temp_c\", \"temp_f\"]\n",
    "for key in keys:\n",
    "    data2[key] = []\n",
    "for row in tab4[\"a\"].values[1:]:\n",
    "    data2[keys[0]].append(float(row.split()[0]))\n",
    "    data2[keys[1]].append(float(row.split()[-1]))"
   ],
   "execution_count": null,
   "outputs": []
  },
  {
   "cell_type": "code",
   "metadata": {
    "id": "UWzuoE8kwyx_"
   },
   "source": [
    "for row in tab4[\"b\"].values[1:]:\n",
    "    vals = row.split(\";\")\n",
    "    for i, val in enumerate(vals):\n",
    "        data2[keys[i + 2]].append(float(val.split()[0]))"
   ],
   "execution_count": null,
   "outputs": []
  },
  {
   "cell_type": "code",
   "metadata": {
    "id": "PlelE62BwyyB"
   },
   "source": [
    "# Dump everything in tab5 as astropy.table.Table\n",
    "tab5 = astropy.table.Table(data2)"
   ],
   "execution_count": null,
   "outputs": []
  },
  {
   "cell_type": "code",
   "metadata": {
    "id": "RfC8lJ7awyyD"
   },
   "source": [
    "# Write the arduino data in a CSV file\n",
    "tab5.write(\"Feb6_2020_data_Arduino.csv\", format=\"ascii.csv\", overwrite=True)"
   ],
   "execution_count": null,
   "outputs": []
  },
  {
   "cell_type": "code",
   "metadata": {
    "id": "fNF-ildmwyyF",
    "outputId": "b219db76-31f1-4bc9-a5a9-635c1b200fff"
   },
   "source": [
    "# Check some of the quantities\n",
    "plt.scatter(tab5[\"voltage_light\"], tab5[\"freq\"])\n",
    "plt.xlabel(\"Voltage [V] (light)\", fontsize=16)\n",
    "plt.ylabel(\"Frequency [Hz]\", fontsize=16)"
   ],
   "execution_count": null,
   "outputs": [
    {
     "output_type": "execute_result",
     "data": {
      "text/plain": [
       "Text(0, 0.5, 'Frequency [Hz]')"
      ]
     },
     "metadata": {
      "tags": []
     },
     "execution_count": 155
    },
    {
     "output_type": "display_data",
     "data": {
      "image/png": "[encoded data removed]",
      "text/plain": [
       "<Figure size 432x288 with 1 Axes>"
      ]
     },
     "metadata": {
      "tags": [],
      "needs_background": "light"
     }
    }
   ]
  },
  {
   "cell_type": "code",
   "metadata": {
    "id": "kiYSfZuPwyyG",
    "outputId": "24e712a4-0c87-40d9-b871-d6b4fb475242"
   },
   "source": [
    "plt.scatter(tab5[\"voltage_temp\"], tab5[\"temp_c\"])\n",
    "plt.xlabel(\"Voltage [V] (temp)\", fontsize=16)\n",
    "plt.ylabel(r\"Temperature [$^{\\circ}$ C]\", fontsize=16)"
   ],
   "execution_count": null,
   "outputs": [
    {
     "output_type": "execute_result",
     "data": {
      "text/plain": [
       "Text(0, 0.5, 'Temperature [$^{\\\\circ}$ C]')"
      ]
     },
     "metadata": {
      "tags": []
     },
     "execution_count": 156
    },
    {
     "output_type": "display_data",
     "data": {
      "image/png": "[encoded data removed]",
      "text/plain": [
       "<Figure size 432x288 with 1 Axes>"
      ]
     },
     "metadata": {
      "tags": [],
      "needs_background": "light"
     }
    }
   ]
  },
  {
   "cell_type": "code",
   "metadata": {
    "id": "FjQECx7cwyyI",
    "outputId": "f321edd3-3896-4649-d829-8768387838b1"
   },
   "source": [
    "# Does the data correlate? Plotting the temperature and measured frequencies\n",
    "plt.scatter(tab2[\"temp\"], tab2[\"freq\"], s=0.1, label=\"SQM\")\n",
    "plt.scatter(tab5[\"temp_c\"], tab5[\"freq\"], s=0.1, label=\"Arduino\")\n",
    "plt.xlabel(r\"Temperature [$^{\\circ}$ C]\", fontsize=16)\n",
    "plt.ylabel(\"Frequency [Hz]\", fontsize=16)"
   ],
   "execution_count": null,
   "outputs": [
    {
     "output_type": "execute_result",
     "data": {
      "text/plain": [
       "Text(0, 0.5, 'Frequency [Hz]')"
      ]
     },
     "metadata": {
      "tags": []
     },
     "execution_count": 185
    },
    {
     "output_type": "display_data",
     "data": {
      "image/png": "[encoded data removed]",
      "text/plain": [
       "<Figure size 432x288 with 1 Axes>"
      ]
     },
     "metadata": {
      "tags": [],
      "needs_background": "light"
     }
    }
   ]
  },
  {
   "cell_type": "code",
   "metadata": {
    "id": "IQoElSE4wyyK",
    "outputId": "ea6665d4-027c-441d-cb42-1e0188dbb261"
   },
   "source": [
    "# Assuming that the data-taking started at the same time,\n",
    "# we subsample the Arduino's data by a factor of 2 i.e., data_arduino[::2]\n",
    "# and only select up to twice the length of the data from SQM\n",
    "plt.scatter(\n",
    "    tab5[\"freq\"][0:1830:2][tab5[\"freq\"][0:1830:2] != 0],\n",
    "    tab2[\"freq\"][tab5[\"freq\"][0:1830:2] != 0],\n",
    "    s=0.3,\n",
    ")\n",
    "plt.xlabel(\"Frequency [Hz] Arduino\", fontsize=16)\n",
    "plt.ylabel(\"Frequency [Hz] SQM\", fontsize=16)"
   ],
   "execution_count": null,
   "outputs": [
    {
     "output_type": "execute_result",
     "data": {
      "text/plain": [
       "Text(0, 0.5, 'Frequency [Hz] SQM')"
      ]
     },
     "metadata": {
      "tags": []
     },
     "execution_count": 186
    },
    {
     "output_type": "display_data",
     "data": {
      "image/png": "[encoded data removed]",
      "text/plain": [
       "<Figure size 432x288 with 1 Axes>"
      ]
     },
     "metadata": {
      "tags": [],
      "needs_background": "light"
     }
    }
   ]
  },
  {
   "cell_type": "code",
   "metadata": {
    "id": "Q7QUst0bwyyM",
    "outputId": "7f6c05d5-fa9b-45bd-d716-ad3c16fcf44d"
   },
   "source": [
    "# Assuming that the data-taking started at the same time,\n",
    "# we subsample the Arduino's data by a factor of 2 i.e., data_arduino[::2]\n",
    "# and only select up to twice the length of the data from SQM\n",
    "plt.scatter(\n",
    "    tab5[\"temp_c\"][0:1830:2][tab5[\"freq\"][0:1830:2] != 0],\n",
    "    tab2[\"temp\"][tab5[\"freq\"][0:1830:2] != 0],\n",
    "    s=0.3,\n",
    ")\n",
    "plt.xlabel(\"Temp Arduino [C]\", fontsize=16)\n",
    "plt.ylabel(\"Temp SQM [C]\", fontsize=16)\n",
    "plt.xlim(-2, 8)\n",
    "plt.ylim(-2, 8)"
   ],
   "execution_count": null,
   "outputs": [
    {
     "output_type": "execute_result",
     "data": {
      "text/plain": [
       "(-2, 8)"
      ]
     },
     "metadata": {
      "tags": []
     },
     "execution_count": 180
    },
    {
     "output_type": "display_data",
     "data": {
      "image/png": "[encoded data removed]",
      "text/plain": [
       "<Figure size 432x288 with 1 Axes>"
      ]
     },
     "metadata": {
      "tags": [],
      "needs_background": "light"
     }
    }
   ]
  },
  {
   "cell_type": "code",
   "metadata": {
    "id": "UmFHPI2uwyyO"
   },
   "source": [
    ""
   ],
   "execution_count": null,
   "outputs": []
  }
 ]
}