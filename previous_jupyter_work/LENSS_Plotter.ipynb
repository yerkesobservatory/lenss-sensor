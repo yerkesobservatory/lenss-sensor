{
 "cells": [
  {
   "cell_type": "markdown",
   "source": [
    "# LENSS Plotting Program\n",
    "\n",
    "An important part of both research and outreach is providing a visualization of data. These visualizations allow quick comparisons between data sets which makes the process quicker as well as provide concrete evidence of work and progress to the general public.\n",
    "\n",
    "This program is used for generating these plots. It pulls LENSS ARD_SQM data from your Drive, parses it, and creates a plot of the change in light over the course of a night along with some supplemental information about the night's conditions.\n",
    "\n",
    "Originally written by: Kristin Baker 2021-08-19\n",
    "\n",
    "Updated by: Alex Scerba 2022-06-20\n"
   ],
   "metadata": {
    "id": "N-ImcWYrp86v"
   }
  },
  {
   "cell_type": "markdown",
   "source": [
    "## Installing and Importing Dependancies\n",
    "\n",
    "Here we install the Python modules needed later on in the program and then import them for use.\n",
    "\n",
    "We use pip3 to install the modules to the Colab instance we're running so that they can be imported."
   ],
   "metadata": {
    "id": "N87kk8eYM_Gs"
   }
  },
  {
   "cell_type": "code",
   "execution_count": null,
   "metadata": {
    "id": "j6AJXbtUgUaX"
   },
   "outputs": [],
   "source": [
    "! pip3 install astroplan\n",
    "! pip3 install astropy\n",
    "! pip3 install julian"
   ]
  },
  {
   "cell_type": "markdown",
   "source": [
    "* `os` is used for system commands within the program.\n",
    "* `matplotlib.pyplot` is how we generate plots of data.\n",
    "* `astroplan` is used to find the time of various astronomical events.\n",
    "* `astropy.units` makes it easier to use astronomical units needed it some lines of code.\n",
    "* `astropy.time` provides an easy way to generate time data in various formats.\n",
    "* `statistics` is used for performing some math opperations on the dataset.\n",
    "* `datetime, timedelta, and date` are used for various system date and time operations.\n",
    "* `julian` used for converting Modified Julian Dates."
   ],
   "metadata": {
    "id": "sKfDj7zLPUEh"
   }
  },
  {
   "cell_type": "code",
   "execution_count": null,
   "metadata": {
    "id": "eXJygUNNY7-J"
   },
   "outputs": [],
   "source": [
    "import os\n",
    "import matplotlib.pyplot as plot\n",
    "from astroplan import Observer\n",
    "import astropy.units as astro_units\n",
    "from astropy.time import Time\n",
    "import statistics\n",
    "from datetime import datetime, timedelta, date\n",
    "import julian"
   ]
  },
  {
   "cell_type": "markdown",
   "source": [
    "## Linking With Drive\n",
    "\n",
    "Google Colab allows easy Drive integration which is usefull since all LENSS data currently lives on Google Drive in the shared LENSS folder. Here, we import the required module and mount the Drive. Mine is set so that the shared LENSS folder is pinned in the 'My Drive' section of Google Drive. If yours is set in a different location, be sure to change that in the code as described in a later section.\n",
    "\n",
    "**Note:** You will have to grant Colab permission to access your drive to continue.\n",
    "\n",
    "    Currently under: `/LENSS/Data/Sensors Data`"
   ],
   "metadata": {
    "id": "EOlE7xOyNWi_"
   }
  },
  {
   "cell_type": "code",
   "execution_count": null,
   "metadata": {
    "id": "1fMvnxKw07gU",
    "colab": {
     "base_uri": "https://localhost:8080/"
    },
    "executionInfo": {
     "status": "ok",
     "timestamp": 1656445921111,
     "user_tz": 300,
     "elapsed": 18129,
     "user": {
      "displayName": "Alex Scerba",
      "userId": "09496144583296645527"
     }
    },
    "outputId": "eb931934-6e93-42c1-83cc-bc47501e9ef1"
   },
   "outputs": [
    {
     "output_type": "stream",
     "name": "stdout",
     "text": [
      "Mounted at /content/drive\n"
     ]
    }
   ],
   "source": [
    "from google.colab import drive\n",
    "\n",
    "drive.mount(\"/content/drive\")"
   ]
  },
  {
   "cell_type": "markdown",
   "source": [
    "## Getting Dates and Data Location\n",
    "\n",
    "Because the ARD_SQM saves data on a per day basis, two files need to be opened to gather data for one night (evening data for the first and morning for the second). To get these, we need to know the dates and locations of each of the files as well as the sensor number."
   ],
   "metadata": {
    "id": "SmdeEwQBUTbG"
   }
  },
  {
   "cell_type": "markdown",
   "source": [
    "### Date Selection\n",
    "\n",
    "Here we select the files to be used based on today's date. By default, the program selects a date two days back and a date one day back. To more easily select a date farther into the past or possibly test data set in the future, a `date_offset_override` variable was included.\n",
    "\n",
    "    Usage: Ex. Date 2022-06-10\n",
    "\n",
    "    date_offset_override = 0    # Default value. Would Select 2022-06-08 and 2022-06-09\n",
    "    date_offset_override = -5   # Would select 2022-06-02 and 2022-06-03"
   ],
   "metadata": {
    "id": "1EV73uIo0eVW"
   }
  },
  {
   "cell_type": "code",
   "execution_count": null,
   "metadata": {
    "id": "cmkuA01kY7-L",
    "colab": {
     "base_uri": "https://localhost:8080/"
    },
    "executionInfo": {
     "status": "ok",
     "timestamp": 1655748878524,
     "user_tz": 300,
     "elapsed": 20,
     "user": {
      "displayName": "Chris K",
      "userId": "00963010987839974378"
     }
    },
    "outputId": "0d15724d-0c2b-446b-d1a8-6a3be013cfab"
   },
   "outputs": [
    {
     "output_type": "stream",
     "name": "stdout",
     "text": [
      "Today's date: 2022-06-20\n",
      "Evening date: 2022-06-08\n",
      "Morning date: 2022-06-09\n"
     ]
    }
   ],
   "source": [
    "today = date.today()\n",
    "date_offset_override = (\n",
    "    -10\n",
    ")  # For manually selecting a date. Negative goes back in time, positive goes forward. 0 is the previous night; EX: today is 6/12/2022 then 0 would mean data from the evening of 6/10/2022 and morning of 6/11/2022\n",
    "print(\"Today's date: \" + str(today))\n",
    "\n",
    "evening_date = today - timedelta(days=2 - date_offset_override)\n",
    "evening_year_and_month = evening_date.strftime(\"%Y-%m\")\n",
    "print(\"Evening date: \" + str(evening_date))\n",
    "\n",
    "morning_date = today - timedelta(days=1 - date_offset_override)\n",
    "morning_year_and_month = morning_date.strftime(\"%Y-%m\")\n",
    "print(\"Morning date: \" + str(morning_date))"
   ]
  },
  {
   "cell_type": "markdown",
   "metadata": {
    "id": "rtA8pz_PwGu6"
   },
   "source": [
    "### Setting Data Location\n",
    "\n",
    "Currently, files are sorted in the format: `YYYY-MM/LENSS_TSL_0000/YYYY-MM-DD_LENSSTSL_0000.txt`. The below code looks at the path and sensor number set and generates the file paths for the two data files to be used in the next step.\n",
    "\n",
    "The default value for `parent_directory` will work if you have the shared LENSS folder pinned/stared so that it shows up under the 'My Drive' section of your Drive. **If the LENSS folder is only under your 'Shared with me' section**, make sure to star the folder so that it appears in your Drive. If you have the LENSS folder stared and it is under another folder in your Drive, make sure to modify the `parent_directory` variable to reflect the path difference.\n",
    "\n",
    "    Usage:\n",
    "      Ex. LENSS folder located at 'My Drive/GLAS_Folder/LENSS'\n",
    "        parent_directory = '/content/drive/MyDrive/GLAS_Folder/LENSS/Data/Sensors Data'\n",
    "      Ex. Sensor number 32\n",
    "        sensor_number = '0032'"
   ]
  },
  {
   "cell_type": "code",
   "execution_count": null,
   "metadata": {
    "id": "8yLP0hnNY7-N",
    "colab": {
     "base_uri": "https://localhost:8080/"
    },
    "executionInfo": {
     "status": "ok",
     "timestamp": 1655748878525,
     "user_tz": 300,
     "elapsed": 14,
     "user": {
      "displayName": "Chris K",
      "userId": "00963010987839974378"
     }
    },
    "outputId": "021f10df-7949-42dd-e22b-c4da9632aea4"
   },
   "outputs": [
    {
     "output_type": "stream",
     "name": "stdout",
     "text": [
      "Sensor 10\n",
      "/content/drive/MyDrive/LENSS/Data/Sensors Data/2022-06/LENSS_TSL_0010/2022-06-08_LENSSTSL0010.txt\n",
      "/content/drive/MyDrive/LENSS/Data/Sensors Data/2022-06/LENSS_TSL_0010/2022-06-09_LENSSTSL0010.txt\n"
     ]
    }
   ],
   "source": [
    "parent_directory = \"/content/drive/MyDrive/LENSS/Data/Sensors Data\"\n",
    "sensor_number = \"0010\"  # Grab from dir or filename in the future\n",
    "\n",
    "sensor_name = \"Sensor \" + sensor_number.lstrip(\"0\")\n",
    "\n",
    "evening_file_path = (\n",
    "    parent_directory\n",
    "    + \"/\"\n",
    "    + evening_year_and_month\n",
    "    + \"/LENSS_TSL_\"\n",
    "    + sensor_number\n",
    "    + \"/\"\n",
    "    + str(evening_date)\n",
    "    + \"_LENSSTSL\"\n",
    "    + sensor_number\n",
    "    + \".txt\"\n",
    ")\n",
    "morning_file_path = (\n",
    "    parent_directory\n",
    "    + \"/\"\n",
    "    + morning_year_and_month\n",
    "    + \"/LENSS_TSL_\"\n",
    "    + sensor_number\n",
    "    + \"/\"\n",
    "    + str(morning_date)\n",
    "    + \"_LENSSTSL\"\n",
    "    + sensor_number\n",
    "    + \".txt\"\n",
    ")\n",
    "\n",
    "print(sensor_name)\n",
    "print(evening_file_path)\n",
    "print(morning_file_path)"
   ]
  },
  {
   "cell_type": "markdown",
   "source": [
    "## Importing the Data\n",
    "\n",
    "Here, we define a set of arrays to store each kind of data point in both files. The files are split to facilitate easier selection of the start and stop points for each day. There is probably a more efficient way to handle this.\n",
    "\n",
    "The files are read line-by-line, and the data is split at each comma in the line. The datapoint is then put into the cooresponding array for later use."
   ],
   "metadata": {
    "id": "4Rxpo5be9vfT"
   }
  },
  {
   "cell_type": "code",
   "execution_count": null,
   "metadata": {
    "id": "FFqt3PfWat-l"
   },
   "outputs": [],
   "source": [
    "evening_time = []\n",
    "morning_time = []\n",
    "evening_temp = []\n",
    "morning_temp = []\n",
    "evening_voltage = []\n",
    "morning_voltage = []\n",
    "evening_frequency = []\n",
    "morning_frequency = []\n",
    "evening_time1 = []\n",
    "morning_time1 = []\n",
    "\n",
    "evening_file = open(evening_file_path, \"r\")\n",
    "data_set = evening_file.readlines()\n",
    "\n",
    "for line in data_set:\n",
    "    evening_time.append(str(line.split(\",\")[0]))\n",
    "    evening_voltage.append(float(line.split(\",\")[1]))\n",
    "    evening_frequency.append(float(line.split(\",\")[2]))\n",
    "    evening_temp.append(float(line.split(\",\")[3]))\n",
    "\n",
    "for number in range(len(evening_time)):\n",
    "    evening_time1.append(str(evening_date) + \"T\" + evening_time[number])\n",
    "\n",
    "evening_file.close()\n",
    "\n",
    "morning_file = open(morning_file_path, \"r\")\n",
    "data_set = morning_file.readlines()\n",
    "\n",
    "for line in data_set:\n",
    "    morning_time.append(str(line.split(\",\")[0]))\n",
    "    morning_voltage.append(float(line.split(\",\")[1]))\n",
    "    morning_frequency.append(float(line.split(\",\")[2]))\n",
    "    morning_temp.append(float(line.split(\",\")[3]))\n",
    "\n",
    "for number in range(len(morning_time)):\n",
    "    morning_time1.append(str(morning_date) + \"T\" + morning_time[number])\n",
    "\n",
    "morning_file.close()"
   ]
  },
  {
   "cell_type": "markdown",
   "source": [
    "## Modified Julian Dates\n",
    "\n",
    "A good explination of what Modified Julian Dates are can be found [here](https://core2.gsfc.nasa.gov/time/) on NASA's site.\n",
    "\n",
    "Here, we create arrays of MJD timestamps that coorespond to the local times in each file. We use the MJD timestamps to select each twilight time without worrying about daylight savings time.\n",
    "\n",
    "**Note:** Will be depreciated with the addition of UTC timestamps to the datafiles.\n"
   ],
   "metadata": {
    "id": "EOSWjNaDpdd3"
   }
  },
  {
   "cell_type": "code",
   "execution_count": null,
   "metadata": {
    "id": "mTullugiY7-Q"
   },
   "outputs": [],
   "source": [
    "evening_mjd_time = []\n",
    "morning_mjd_time = []\n",
    "\n",
    "local_mjd_1 = Time(evening_time1, format=\"isot\", scale=\"local\").mjd\n",
    "\n",
    "for number in range(len(evening_time1)):\n",
    "    evening_mjd_time.append(local_mjd_1[number])\n",
    "\n",
    "local_mjd_2 = Time(morning_time1, format=\"isot\", scale=\"local\").mjd\n",
    "\n",
    "for number in range(len(morning_time1)):\n",
    "    morning_mjd_time.append(local_mjd_2[number])"
   ]
  },
  {
   "cell_type": "markdown",
   "source": [
    "## Finding Twilight and Moon Phases\n",
    "\n",
    "To find twilight and moon phases, we use the Astroplan library's Observer object which will generate values based on the location and general time of observation.\n",
    "\n",
    "Currently, the general values for observation time are 4:00 pm and 5:00 am, but exact MJD values are generated from the Observer object.\n",
    "\n",
    "    Moon Illumination and Phase:\n",
    "\n",
    "    0 = new moon\n",
    "    0 - .5 = cresent\n",
    "    .5 = quarter\n",
    "    .501 - 1 = gibbous\n",
    "    1 = full moon\n"
   ],
   "metadata": {
    "id": "pAWHuy38zYLQ"
   }
  },
  {
   "cell_type": "code",
   "execution_count": null,
   "metadata": {
    "id": "3Q4SQuj2Y7-R",
    "scrolled": true,
    "colab": {
     "base_uri": "https://localhost:8080/"
    },
    "executionInfo": {
     "status": "ok",
     "timestamp": 1655748890481,
     "user_tz": 300,
     "elapsed": 7977,
     "user": {
      "displayName": "Chris K",
      "userId": "00963010987839974378"
     }
    },
    "outputId": "b18675dc-db55-4010-902e-98a5984f0703"
   },
   "outputs": [
    {
     "output_type": "stream",
     "name": "stdout",
     "text": [
      "Gibbous\n"
     ]
    }
   ],
   "source": [
    "sensor_location = Observer(\n",
    "    longitude=-88.5375518 * astro_units.deg,\n",
    "    latitude=42.587277 * astro_units.deg,\n",
    "    elevation=879 * astro_units.m,\n",
    ")\n",
    "\n",
    "evening_twilight = str(evening_date) + \" 16:00:00.000\"\n",
    "morning_twilight = str(morning_date) + \" 05:00:00.000\"\n",
    "evening_value = (\n",
    "    float(\n",
    "        str(\n",
    "            sensor_location.twilight_evening_astronomical(\n",
    "                Time(evening_twilight)\n",
    "            )\n",
    "        )\n",
    "    )\n",
    "    - 2400000.5\n",
    "    - (6 * (0.5 / 12))\n",
    ")\n",
    "morning_value = (\n",
    "    float(\n",
    "        str(\n",
    "            sensor_location.twilight_morning_astronomical(\n",
    "                Time(morning_twilight)\n",
    "            )\n",
    "        )\n",
    "    )\n",
    "    - 2400000.5\n",
    "    - (6 * (0.5 / 12))\n",
    ")\n",
    "moon_value = float(str(sensor_location.moon_illumination(evening_twilight)))\n",
    "moon_phase = []\n",
    "\n",
    "if moon_value == 0:\n",
    "    moon_phase.append(\"New Moon\")\n",
    "elif (moon_value > 0) and (moon_value < 0.5):\n",
    "    moon_phase.append(\"Cresent\")\n",
    "elif moon_phase == 0.5:\n",
    "    moon_phase.append(\"Quarter\")\n",
    "elif (moon_value > 0.5) and (moon_value < 1):\n",
    "    moon_phase.append(\"Gibbous\")\n",
    "elif moon_phase == 1:\n",
    "    moon_phase.append(\"Full\")\n",
    "\n",
    "print(moon_phase[0])"
   ]
  },
  {
   "cell_type": "markdown",
   "source": [
    "## Cutting Unnecessary Data\n",
    "\n",
    "Here we compare the MJD time array to the found values for evening and morning twilight, and if the data is in between those times it is added to the appropriate array. The arrays are then combined to create a master data set.\n",
    "\n",
    "Lastly, 24 hour times are converted to 12 hour times."
   ],
   "metadata": {
    "id": "teT4p3fXvG11"
   }
  },
  {
   "cell_type": "code",
   "execution_count": null,
   "metadata": {
    "id": "j1e0kpJ6Y7-S"
   },
   "outputs": [],
   "source": [
    "local_time = []\n",
    "mjd_time = []\n",
    "temp = []\n",
    "voltage = []\n",
    "\n",
    "mjd_evening1 = []\n",
    "evening_frequency1 = []\n",
    "\n",
    "evening_temp1 = []\n",
    "morning_temp1 = []\n",
    "\n",
    "evening_voltage1 = []\n",
    "morning_voltage1 = []\n",
    "\n",
    "mjd_morning1 = []\n",
    "morning_frequency1 = []\n",
    "\n",
    "local_time1 = []\n",
    "local_time2 = []\n",
    "\n",
    "for i in range(len(evening_mjd_time)):\n",
    "    if evening_mjd_time[i] >= evening_value:\n",
    "        mjd_evening1.append(evening_mjd_time[i])\n",
    "        evening_frequency1.append(evening_frequency[i])\n",
    "        local_time1.append(evening_time[i])\n",
    "        evening_temp1.append(evening_temp[i])\n",
    "        evening_voltage1.append(evening_voltage[i])\n",
    "\n",
    "for i in range(len(morning_mjd_time)):\n",
    "    if morning_mjd_time[i] <= morning_value:\n",
    "        mjd_morning1.append(morning_mjd_time[i])\n",
    "        morning_frequency1.append(morning_frequency[i])\n",
    "        local_time2.append(morning_time[i])\n",
    "        morning_temp1.append(morning_temp[i])\n",
    "        morning_voltage1.append(morning_voltage[i])\n",
    "\n",
    "frequency = evening_frequency1 + morning_frequency1\n",
    "mjd_time = mjd_evening1 + mjd_morning1\n",
    "local_time = local_time1 + local_time2\n",
    "temp = evening_temp1 + morning_temp1\n",
    "voltage = evening_voltage1 + morning_voltage1\n",
    "\n",
    "local_12time = []\n",
    "\n",
    "# convert local_time array from strings in 24 time to string objects in 12 hour time\n",
    "for i in range(len(local_time)):\n",
    "    x1 = local_time[i]\n",
    "    x2 = datetime.strptime(x1, \"%H:%M:%S\")\n",
    "    local_12time.append(x2.strftime(\"%I:%M %p\"))"
   ]
  },
  {
   "cell_type": "markdown",
   "source": [
    "## Sun and Moon Rising and Setting\n",
    "\n",
    "Here we find the times for sunset, sunrise, moonset, and moonrise for displaying later on the plot."
   ],
   "metadata": {
    "id": "k3jfuINn72Pb"
   }
  },
  {
   "cell_type": "code",
   "execution_count": null,
   "metadata": {
    "id": "cOpFpsC2Y7-T"
   },
   "outputs": [],
   "source": [
    "sunset_mjd_time = (\n",
    "    float(\n",
    "        str(\n",
    "            sensor_location.sun_set_time(\n",
    "                Time(evening_twilight), which=\"nearest\"\n",
    "            )\n",
    "        )\n",
    "    )\n",
    "    - 2400000.5\n",
    "    - (6 * (0.5 / 12))\n",
    ")\n",
    "sunset_standard_time = julian.from_jd(sunset_mjd_time, fmt=\"mjd\")\n",
    "sunset_24time = sunset_standard_time.strftime((\"%H:%M\"))\n",
    "sunset_12time = sunset_standard_time.strftime(\"%m-%d-%y %I:%M %p\")\n",
    "\n",
    "sunrise_mjd_time = (\n",
    "    float(\n",
    "        str(\n",
    "            sensor_location.sun_rise_time(\n",
    "                Time(morning_twilight), which=\"nearest\"\n",
    "            )\n",
    "        )\n",
    "    )\n",
    "    - 2400000.5\n",
    "    - (6 * (0.5 / 12))\n",
    ")\n",
    "sunrise_standard_time = julian.from_jd(sunrise_mjd_time, fmt=\"mjd\")\n",
    "sunrise_24time = sunrise_standard_time.strftime((\"%H:%M\"))\n",
    "sunrise_12time = sunrise_standard_time.strftime(\"%m-%d-%y %I:%M %p\")\n",
    "\n",
    "moonrise_mjd_time = (\n",
    "    float(\n",
    "        str(\n",
    "            sensor_location.moon_rise_time(\n",
    "                Time(evening_twilight), which=\"nearest\"\n",
    "            )\n",
    "        )\n",
    "    )\n",
    "    - 2400000.5\n",
    "    - (6 * (0.5 / 12))\n",
    ")\n",
    "moonrise_standard_time = julian.from_jd(moonrise_mjd_time, fmt=\"mjd\")\n",
    "moonrise_24time = moonrise_standard_time.strftime((\"%H:%M\"))\n",
    "moonrise_12time = moonrise_standard_time.strftime(\"%m-%d-%y %I:%M %p\")\n",
    "\n",
    "moonset_mjd_time = (\n",
    "    float(\n",
    "        str(\n",
    "            sensor_location.moon_set_time(\n",
    "                Time(morning_twilight), which=\"nearest\"\n",
    "            )\n",
    "        )\n",
    "    )\n",
    "    - 2400000.5\n",
    "    - (6 * (0.5 / 12))\n",
    ")\n",
    "moonset_standard_time = julian.from_jd(moonset_mjd_time, fmt=\"mjd\")\n",
    "moonset_24time = moonset_standard_time.strftime((\"%H:%M\"))\n",
    "moonset_12time = moonset_standard_time.strftime(\"%m-%d-%y %I:%M %p\")"
   ]
  },
  {
   "cell_type": "markdown",
   "source": [
    "## Mean and Median Datapoints\n",
    "\n",
    "Here we calculate the mean and median for the dataset to be displayed on the plot."
   ],
   "metadata": {
    "id": "L0TmTY8N95J5"
   }
  },
  {
   "cell_type": "code",
   "execution_count": null,
   "metadata": {
    "id": "PaucA6zKY7-U"
   },
   "outputs": [],
   "source": [
    "min_frequency = float(min(frequency))\n",
    "y_min = min_frequency - 10\n",
    "\n",
    "max_frequency = float(max(frequency))\n",
    "y_max = max_frequency + 10\n",
    "\n",
    "mean_freq = str(round((sum(frequency) / len(frequency)), 2))\n",
    "median_freq = str(round(statistics.median(frequency), 2))"
   ]
  },
  {
   "cell_type": "markdown",
   "source": [
    "## Plotting the Data\n",
    "\n",
    "Here we generate a plot of sensor data over time and overlay some supplementary data such as sunset and sunrise. \n",
    "\n",
    "The plot is then saved as a 72 dpi image in PNG format for use on the web.\n",
    "\n",
    "**Note:** The plots folder location as set in `figure.savefig()` should be changed to a more permanent location."
   ],
   "metadata": {
    "id": "P4XOHV5V-f9W"
   }
  },
  {
   "cell_type": "code",
   "execution_count": null,
   "metadata": {
    "id": "nGgKH-jNY7-V",
    "colab": {
     "base_uri": "https://localhost:8080/",
     "height": 679
    },
    "executionInfo": {
     "status": "ok",
     "timestamp": 1655748894018,
     "user_tz": 300,
     "elapsed": 2394,
     "user": {
      "displayName": "Chris K",
      "userId": "00963010987839974378"
     }
    },
    "outputId": "31ed7fd9-4ba2-45e3-c8de-74e45f8ab4ad"
   },
   "outputs": [
    {
     "output_type": "display_data",
     "data": {
      "text/plain": [
       "<Figure size 1080x720 with 1 Axes>"
      ],
      "image/png": "[encoded data removed]"
     },
     "metadata": {
      "needs_background": "light"
     }
    }
   ],
   "source": [
    "figure = plot.figure(figsize=(15, 10))\n",
    "\n",
    "plot.title(\n",
    "    str(evening_date) + \" \" + sensor_name + \" Dark Sky Observation\", fontsize=25\n",
    ")\n",
    "\n",
    "plot.plot(local_12time, frequency, color=\"k\", linewidth=1)\n",
    "\n",
    "plot.ylabel(\"Light Frequency\", fontsize=20)\n",
    "plot.yticks(fontsize=12)\n",
    "plot.ylim(y_min, y_max)\n",
    "\n",
    "plot.xlabel(\"Local Time\", fontsize=20)\n",
    "plot.xticks(\n",
    "    [\"10:00 PM\", \"11:00 PM\", \"12:00 AM\", \"01:01 AM\", \"02:00 AM\"], fontsize=12\n",
    ")\n",
    "plot.xticks(rotation=45, ha=\"right\")\n",
    "\n",
    "# Supplementary Data\n",
    "plot.text(local_12time[0], y_max - 1, \"Sunset: \" + sunset_12time, fontsize=12)\n",
    "plot.text(\n",
    "    local_12time[0], y_max - 1.75, \"Sunrise: \" + sunrise_12time, fontsize=12\n",
    ")\n",
    "plot.text(\n",
    "    local_12time[0], y_max - 2.5, \"Moon Phase: \" + moon_phase[0], fontsize=12\n",
    ")\n",
    "plot.text(\n",
    "    local_12time[0], y_max - 3.25, \"Moon Rise: \" + moonrise_12time, fontsize=12\n",
    ")\n",
    "plot.text(\n",
    "    local_12time[0], y_max - 4, \"Moon Set: \" + moonset_12time, fontsize=12\n",
    ")\n",
    "plot.text(\n",
    "    local_12time[0],\n",
    "    y_min + 1,\n",
    "    \"Avg. Frequency: \" + mean_freq + \" Hz\",\n",
    "    fontsize=12,\n",
    ")\n",
    "plot.text(\n",
    "    local_12time[0],\n",
    "    y_min + 1.75,\n",
    "    \"Meadian Frequency: \" + median_freq + \" Hz\",\n",
    "    fontsize=12,\n",
    ")\n",
    "\n",
    "figure.savefig(\n",
    "    \"drive/MyDrive/LENSS/Data/Data Analysis/PLOTS_TEST/\"\n",
    "    + str(evening_date)\n",
    "    + \"_LENSSTSL\"\n",
    "    + sensor_number\n",
    "    + \"_Plot.png\",\n",
    "    transparent=False,\n",
    "    dpi=72,\n",
    "    bbox_inches=\"tight\",\n",
    ")\n",
    "plot.show()"
   ]
  }
 ],
 "metadata": {
  "colab": {
   "collapsed_sections": [],
   "name": "LENSS_Plotter.ipynb",
   "provenance": []
  },
  "kernelspec": {
   "display_name": "Python 3",
   "language": "python",
   "name": "python3"
  },
  "language_info": {
   "codemirror_mode": {
    "name": "ipython",
    "version": 3
   },
   "file_extension": ".py",
   "mimetype": "text/x-python",
   "name": "python",
   "nbconvert_exporter": "python",
   "pygments_lexer": "ipython3",
   "version": "3.8.3"
  }
 },
 "nbformat": 4,
 "nbformat_minor": 0
}