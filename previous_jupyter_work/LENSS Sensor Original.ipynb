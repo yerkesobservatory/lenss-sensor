{
 "cells": [
  {
   "cell_type": "code",
   "execution_count": null,
   "metadata": {
    "scrolled": true,
    "colab": {
     "base_uri": "https://localhost:8080/",
     "height": 377
    },
    "id": "RQ2a-Gdcd3Ti",
    "executionInfo": {
     "status": "error",
     "timestamp": 1646943257116,
     "user_tz": 360,
     "elapsed": 180,
     "user": {
      "displayName": "Chris K",
      "photoUrl": "https://lh3.googleusercontent.com/a/default-user=s64",
      "userId": "00963010987839974378"
     }
    },
    "outputId": "facf0b58-d2c5-40fb-cd55-8018075dbd30"
   },
   "outputs": [
    {
     "output_type": "error",
     "ename": "ModuleNotFoundError",
     "evalue": "ignored",
     "traceback": [
      "\u001b[0;31m---------------------------------------------------------------------------\u001b[0m",
      "\u001b[0;31mModuleNotFoundError\u001b[0m                       Traceback (most recent call last)",
      "\u001b[0;32m<ipython-input-1-d49cfa59822d>\u001b[0m in \u001b[0;36m<module>\u001b[0;34m()\u001b[0m\n\u001b[1;32m      2\u001b[0m \u001b[0;32mimport\u001b[0m \u001b[0mnumpy\u001b[0m \u001b[0;32mas\u001b[0m \u001b[0mnp\u001b[0m\u001b[0;34m\u001b[0m\u001b[0;34m\u001b[0m\u001b[0m\n\u001b[1;32m      3\u001b[0m \u001b[0;32mimport\u001b[0m \u001b[0mmatplotlib\u001b[0m\u001b[0;34m.\u001b[0m\u001b[0mpyplot\u001b[0m \u001b[0;32mas\u001b[0m \u001b[0mplt\u001b[0m\u001b[0;34m\u001b[0m\u001b[0;34m\u001b[0m\u001b[0m\n\u001b[0;32m----> 4\u001b[0;31m \u001b[0;32mfrom\u001b[0m \u001b[0mastroplan\u001b[0m \u001b[0;32mimport\u001b[0m \u001b[0mObserver\u001b[0m\u001b[0;34m\u001b[0m\u001b[0;34m\u001b[0m\u001b[0m\n\u001b[0m\u001b[1;32m      5\u001b[0m \u001b[0;32mimport\u001b[0m \u001b[0mastropy\u001b[0m\u001b[0;34m.\u001b[0m\u001b[0munits\u001b[0m \u001b[0;32mas\u001b[0m \u001b[0mu\u001b[0m\u001b[0;34m\u001b[0m\u001b[0;34m\u001b[0m\u001b[0m\n\u001b[1;32m      6\u001b[0m \u001b[0;32mfrom\u001b[0m \u001b[0mastropy\u001b[0m\u001b[0;34m.\u001b[0m\u001b[0mtime\u001b[0m \u001b[0;32mimport\u001b[0m \u001b[0mTime\u001b[0m\u001b[0;34m\u001b[0m\u001b[0;34m\u001b[0m\u001b[0m\n",
      "\u001b[0;31mModuleNotFoundError\u001b[0m: No module named 'astroplan'",
      "",
      "\u001b[0;31m---------------------------------------------------------------------------\u001b[0;32m\nNOTE: If your import is failing due to a missing package, you can\nmanually install dependencies using either !pip or !apt.\n\nTo view examples of installing some common dependencies, click the\n\"Open Examples\" button below.\n\u001b[0;31m---------------------------------------------------------------------------\u001b[0m\n"
     ],
     "errorDetails": {
      "actions": [
       {
        "action": "open_url",
        "actionText": "Open Examples",
        "url": "/notebooks/snippets/importing_libraries.ipynb"
       }
      ]
     }
    }
   ],
   "source": [
    "import os\n",
    "import numpy as np\n",
    "import matplotlib.pyplot as plt\n",
    "from astroplan import Observer\n",
    "import astropy.units as u\n",
    "from astropy.time import Time\n",
    "from astropy.coordinates import EarthLocation\n",
    "import statistics\n",
    "from datetime import datetime\n",
    "from astral.sun import sun\n",
    "import julian\n",
    "\n",
    "# from astral import Astral"
   ]
  },
  {
   "cell_type": "code",
   "source": [
    "from google.colab import drive\n",
    "\n",
    "drive.mount(\"content/drive\")"
   ],
   "metadata": {
    "colab": {
     "base_uri": "https://localhost:8080/",
     "height": 330
    },
    "id": "2l1URA0Q0YfB",
    "executionInfo": {
     "status": "error",
     "timestamp": 1654616419878,
     "user_tz": 300,
     "elapsed": 16636,
     "user": {
      "displayName": "Alex Scerba",
      "userId": "09496144583296645527"
     }
    },
    "outputId": "9d180bbd-bfb4-4d10-8f90-c61a70fb06aa"
   },
   "execution_count": 1,
   "outputs": [
    {
     "output_type": "error",
     "ename": "ValueError",
     "evalue": "ignored",
     "traceback": [
      "\u001b[0;31m---------------------------------------------------------------------------\u001b[0m",
      "\u001b[0;31mValueError\u001b[0m                                Traceback (most recent call last)",
      "\u001b[0;32m<ipython-input-1-8e29cc1821a0>\u001b[0m in \u001b[0;36m<module>\u001b[0;34m()\u001b[0m\n\u001b[1;32m      1\u001b[0m \u001b[0;32mfrom\u001b[0m \u001b[0mgoogle\u001b[0m\u001b[0;34m.\u001b[0m\u001b[0mcolab\u001b[0m \u001b[0;32mimport\u001b[0m \u001b[0mdrive\u001b[0m\u001b[0;34m\u001b[0m\u001b[0;34m\u001b[0m\u001b[0m\n\u001b[0;32m----> 2\u001b[0;31m \u001b[0mdrive\u001b[0m\u001b[0;34m.\u001b[0m\u001b[0mmount\u001b[0m\u001b[0;34m(\u001b[0m\u001b[0;34m'content/drive'\u001b[0m\u001b[0;34m)\u001b[0m\u001b[0;34m\u001b[0m\u001b[0;34m\u001b[0m\u001b[0m\n\u001b[0m",
      "\u001b[0;32m/usr/local/lib/python3.7/dist-packages/google/colab/drive.py\u001b[0m in \u001b[0;36mmount\u001b[0;34m(mountpoint, force_remount, timeout_ms)\u001b[0m\n\u001b[1;32m    107\u001b[0m       \u001b[0mforce_remount\u001b[0m\u001b[0;34m=\u001b[0m\u001b[0mforce_remount\u001b[0m\u001b[0;34m,\u001b[0m\u001b[0;34m\u001b[0m\u001b[0;34m\u001b[0m\u001b[0m\n\u001b[1;32m    108\u001b[0m       \u001b[0mtimeout_ms\u001b[0m\u001b[0;34m=\u001b[0m\u001b[0mtimeout_ms\u001b[0m\u001b[0;34m,\u001b[0m\u001b[0;34m\u001b[0m\u001b[0;34m\u001b[0m\u001b[0m\n\u001b[0;32m--> 109\u001b[0;31m       ephemeral=True)\n\u001b[0m\u001b[1;32m    110\u001b[0m \u001b[0;34m\u001b[0m\u001b[0m\n\u001b[1;32m    111\u001b[0m \u001b[0;34m\u001b[0m\u001b[0m\n",
      "\u001b[0;32m/usr/local/lib/python3.7/dist-packages/google/colab/drive.py\u001b[0m in \u001b[0;36m_mount\u001b[0;34m(mountpoint, force_remount, timeout_ms, ephemeral)\u001b[0m\n\u001b[1;32m    186\u001b[0m     \u001b[0mnormed\u001b[0m \u001b[0;34m=\u001b[0m \u001b[0m_os\u001b[0m\u001b[0;34m.\u001b[0m\u001b[0mpath\u001b[0m\u001b[0;34m.\u001b[0m\u001b[0mnormpath\u001b[0m\u001b[0;34m(\u001b[0m\u001b[0mmountpoint\u001b[0m\u001b[0;34m)\u001b[0m\u001b[0;34m\u001b[0m\u001b[0;34m\u001b[0m\u001b[0m\n\u001b[1;32m    187\u001b[0m     \u001b[0;32mif\u001b[0m \u001b[0;34m'/'\u001b[0m \u001b[0;32min\u001b[0m \u001b[0mnormed\u001b[0m \u001b[0;32mand\u001b[0m \u001b[0;32mnot\u001b[0m \u001b[0m_os\u001b[0m\u001b[0;34m.\u001b[0m\u001b[0mpath\u001b[0m\u001b[0;34m.\u001b[0m\u001b[0mexists\u001b[0m\u001b[0;34m(\u001b[0m\u001b[0m_os\u001b[0m\u001b[0;34m.\u001b[0m\u001b[0mpath\u001b[0m\u001b[0;34m.\u001b[0m\u001b[0mdirname\u001b[0m\u001b[0;34m(\u001b[0m\u001b[0mnormed\u001b[0m\u001b[0;34m)\u001b[0m\u001b[0;34m)\u001b[0m\u001b[0;34m:\u001b[0m\u001b[0;34m\u001b[0m\u001b[0;34m\u001b[0m\u001b[0m\n\u001b[0;32m--> 188\u001b[0;31m       \u001b[0;32mraise\u001b[0m \u001b[0mValueError\u001b[0m\u001b[0;34m(\u001b[0m\u001b[0;34m'Mountpoint must be in a directory that exists'\u001b[0m\u001b[0;34m)\u001b[0m\u001b[0;34m\u001b[0m\u001b[0;34m\u001b[0m\u001b[0m\n\u001b[0m\u001b[1;32m    189\u001b[0m   \u001b[0;32mexcept\u001b[0m\u001b[0;34m:\u001b[0m\u001b[0;34m\u001b[0m\u001b[0;34m\u001b[0m\u001b[0m\n\u001b[1;32m    190\u001b[0m     \u001b[0md\u001b[0m\u001b[0;34m.\u001b[0m\u001b[0mkill\u001b[0m\u001b[0;34m(\u001b[0m\u001b[0m_signal\u001b[0m\u001b[0;34m.\u001b[0m\u001b[0mSIGKILL\u001b[0m\u001b[0;34m)\u001b[0m\u001b[0;34m\u001b[0m\u001b[0;34m\u001b[0m\u001b[0m\n",
      "\u001b[0;31mValueError\u001b[0m: Mountpoint must be in a directory that exists"
     ]
    }
   ]
  },
  {
   "cell_type": "code",
   "execution_count": null,
   "metadata": {
    "id": "P1lrJoofd3Tm"
   },
   "outputs": [],
   "source": [
    "# open file\n",
    "\n",
    "## the sensor sets a day as from midnight to midnight so the code needs to read in two separate days of date\n",
    "##\n",
    "\n",
    "evening_time = []\n",
    "morning_time = []\n",
    "\n",
    "# celcius\n",
    "evening_temp = []\n",
    "morning_temp = []\n",
    "\n",
    "evening_voltage = []\n",
    "morning_voltage = []\n",
    "\n",
    "evening_frequency = []\n",
    "morning_frequency = []\n",
    "\n",
    "\n",
    "evening_time1 = []\n",
    "morning_time1 = []\n",
    "\n",
    "\n",
    "## read in the text file for the first part of the night\n",
    "\n",
    "\n",
    "## ***DO ONLY FOR OBSERVATIONS BEFORE MAY 8th !!!\n",
    "# with open(\"2021-03-08_LENSSTSL0001_new.txt\", 'w') as new_file:\n",
    "#    with open(\"2021-03-08_LENSSTSL0001.txt\") as file:\n",
    "#        for line in file:\n",
    "#            arr = ([line for line in line.split('\\n') if line.strip()])\n",
    "#            for a in arr:\n",
    "#                if a != ['']:\n",
    "#                    st = a\n",
    "#                    new_file.write(st)\n",
    "#                    new_file.write(\"\\n\")\n",
    "# f1 = open(\"2021-03-08_LENSSTSL0001_new.txt\", 'r')\n",
    "\n",
    "f1 = open(\"2021-03-08_LENSSTSL0001.txt\", \"r\")\n",
    "lines = f1.readlines()\n",
    "\n",
    "for x in lines:\n",
    "    evening_time.append(str(x.split(\",\")[0]))\n",
    "    evening_voltage.append(float(x.split(\",\")[1]))\n",
    "    evening_frequency.append(int(x.split(\",\")[2]))\n",
    "    evening_temp.append(float(x.split(\",\")[3]))\n",
    "\n",
    "\n",
    "for m in range(len(evening_time)):\n",
    "    evening_time1.append(\"2021-03-08T\" + evening_time[m])\n",
    "\n",
    "\n",
    "f1.close()\n",
    "\n",
    "\n",
    "## read in the text file for the second part of the night\n",
    "\n",
    "\n",
    "## ***DO ONLY FOR OBSERVATIONS BEFORE MAY 8th !!!\n",
    "# with open(\"2021-03-09_LENSSTSL0001_new.txt\", 'w') as new_file:\n",
    "#    with open(\"2021-03-09_LENSSTSL0001.txt\") as file:\n",
    "#        for line in file:\n",
    "#            arr = ([line for line in line.split('\\n') if line.strip()])\n",
    "#            for a in arr:\n",
    "#                if a != ['']:\n",
    "#                    st = a\n",
    "#                    new_file.write(st)\n",
    "#                    new_file.write(\"\\n\")\n",
    "# f2 = open(\"2021-03-09_LENSSTSL0001_new.txt\", 'r')\n",
    "\n",
    "f2 = open(\"2021-03-09_LENSSTSL0001.txt\", \"r\")\n",
    "lines = f2.readlines()\n",
    "\n",
    "\n",
    "for x in lines:\n",
    "    morning_time.append(str(x.split(\",\")[0]))\n",
    "    morning_voltage.append(float(x.split(\",\")[1]))\n",
    "    morning_frequency.append(int(x.split(\",\")[2]))\n",
    "    morning_temp.append(float(x.split(\",\")[3]))\n",
    "\n",
    "\n",
    "for m in range(len(morning_time)):\n",
    "    morning_time1.append(\"2021-03-09T\" + morning_time[m])\n",
    "\n",
    "\n",
    "## .append adds the data to the apropriat array\n",
    "## for arrays that you will have to do math operations for later, you want to make sure that you specify what type of\n",
    "##      alues you are adding to the array\n",
    "##      python assumes the values are strings, but you can add 'float' or 'int'outside the (.split) to specify that these\n",
    "##          numbers\n",
    "## .slpit(';') tells the code to speparate the data values when there is a ;\n",
    "##      sometimes the data is separated by commas so you would put (',')\n",
    "##      or by spaces ('  ')\n",
    "## the [#] tells to code which index to use for example: ####;###;###;####;##;###\n",
    "##      would be indexed like [0];[1];[2];[3];[4];[5]\n",
    "##      unlike with reading in the txt filepyhton indeces always start at 0, but they can go up to any number\n",
    "\n",
    "f2.close()\n",
    "\n",
    "\n",
    "## save the first date of the night's filename as a string and then extract the date of the first half of the night\n",
    "##    as a separate string\n",
    "evening = os.path.splitext(f1.name)[0]\n",
    "evening_date = str(evening.split(\"_\")[0])\n",
    "\n",
    "## second half of night\n",
    "morning = os.path.splitext(f2.name)[0]\n",
    "morning_date = str(morning.split(\"_\")[0])"
   ]
  },
  {
   "cell_type": "code",
   "execution_count": null,
   "metadata": {
    "id": "I4O8tB_Ed3Ts"
   },
   "outputs": [],
   "source": [
    "evening_mjd_time = []\n",
    "morning_mjd_time = []\n",
    "\n",
    "t = Time(evening_time1, format=\"isot\", scale=\"local\")\n",
    "m1 = t.mjd\n",
    "\n",
    "for m in range(len(evening_time1)):\n",
    "    evening_mjd_time.append(m1[m])\n",
    "\n",
    "t1 = Time(morning_time1, format=\"isot\", scale=\"local\")\n",
    "m2 = t1.mjd\n",
    "\n",
    "for m in range(len(morning_time1)):\n",
    "    morning_mjd_time.append(m2[m])"
   ]
  },
  {
   "cell_type": "code",
   "execution_count": null,
   "metadata": {
    "scrolled": true,
    "id": "fld8Glhsd3Tu",
    "outputId": "87ea5261-a0fe-4a76-b6ed-e77bd2195c2b"
   },
   "outputs": [
    {
     "name": "stdout",
     "output_type": "stream",
     "text": [
      "59281.810028804 59282.19606047217 0.19966432665381922\n"
     ]
    }
   ],
   "source": [
    "location1 = Observer(\n",
    "    longitude=-88.5375518 * u.deg,\n",
    "    latitude=42.587277 * u.deg,\n",
    "    elevation=879 * u.m,\n",
    ")\n",
    "\n",
    "## these will need to be changed every time the code is run (Time('yyyy-mm-dd hh:mm:ss.sss'))\n",
    "## generalize by using string of filename?\n",
    "evening = (\n",
    "    float(\n",
    "        str(\n",
    "            location1.twilight_evening_astronomical(\n",
    "                Time(\"2021-03-08 19:00:54.000\")\n",
    "            )\n",
    "        )\n",
    "    )\n",
    "    - 2400000.5\n",
    "    - (6 * (0.5 / 12))\n",
    ")\n",
    "morning = (\n",
    "    float(\n",
    "        str(\n",
    "            location1.twilight_morning_astronomical(\n",
    "                Time(\"2021-03-09 03:00:54.000\")\n",
    "            )\n",
    "        )\n",
    "    )\n",
    "    - 2400000.5\n",
    "    - (6 * (0.5 / 12))\n",
    ")\n",
    "moon = float(str(location1.moon_illumination(\"2021-03-09 00:00:05.000\")))\n",
    "moon_phase = []\n",
    "print(evening, morning, moon)\n",
    "\n",
    "if moon == 0:\n",
    "    moon_phase.append(\"New Moon\")\n",
    "elif (moon > 0) and (moon < 0.5):\n",
    "    moon_phase.append(\"Cresent\")\n",
    "elif moon_phase == 0.5:\n",
    "    moon_phase.append(\"Quarter\")\n",
    "elif (moon > 0.5) and (moon < 1):\n",
    "    moon_phase.append(\"Gibbous\")\n",
    "elif moon_phase == 1:\n",
    "    moon_phase.append(\"Full\")\n",
    "\n",
    "\n",
    "##  moon illumination and phase...\n",
    "##    0 = new moon\n",
    "##    0 - .5 = cresent\n",
    "##   .5 = quarter\n",
    "##  .501 - 1 = gibbous\n",
    "##    1 = full moon\n",
    "##   find moon rise and set times?"
   ]
  },
  {
   "cell_type": "code",
   "execution_count": null,
   "metadata": {
    "id": "QwSo4XpFd3Tw",
    "outputId": "ffc84165-3620-4954-a0b8-04b3d604088d"
   },
   "outputs": [
    {
     "name": "stdout",
     "output_type": "stream",
     "text": [
      "03-08-21 03:55 AM\n",
      "03-09-21 01:48 PM\n"
     ]
    }
   ],
   "source": [
    "#### finding SUNSET and SUNRISE\n",
    "#### Generalize Later!!!\n",
    "\n",
    "\n",
    "## find sunset and convert from MJD to standard\n",
    "s1 = (\n",
    "    float(\n",
    "        str(\n",
    "            location1.sun_set_time(\n",
    "                Time(\"2021-03-08 15:00:00.000\"), which=\"nearest\"\n",
    "            )\n",
    "        )\n",
    "    )\n",
    "    - 2400000.5\n",
    "    - (6 * (0.5 / 12))\n",
    ")\n",
    "s2 = julian.from_jd(s1, fmt=\"mjd\")\n",
    "sunset_24time = s2.strftime((\"%H:%M\"))\n",
    "sunset_12time = s2.strftime(\"%m-%d-%y %I:%M %p\")\n",
    "# print(sunset_12time)\n",
    "## sunrise\n",
    "s3 = (\n",
    "    float(\n",
    "        str(\n",
    "            location1.sun_rise_time(\n",
    "                Time(\"2021-03-09 15:00:00.000\"), which=\"nearest\"\n",
    "            )\n",
    "        )\n",
    "    )\n",
    "    - 2400000.5\n",
    "    - (6 * (0.5 / 12))\n",
    ")\n",
    "s4 = julian.from_jd(s3, fmt=\"mjd\")\n",
    "sunrise_24time = s4.strftime((\"%H:%M\"))\n",
    "sunrise_12time = s4.strftime(\"%m-%d-%y %I:%M %p\")\n",
    "\n",
    "\n",
    "m1 = (\n",
    "    float(\n",
    "        str(\n",
    "            location1.moon_rise_time(\n",
    "                Time(\"2021-03-08 15:00:00.000\"), which=\"nearest\"\n",
    "            )\n",
    "        )\n",
    "    )\n",
    "    - 2400000.5\n",
    "    - (6 * (0.5 / 12))\n",
    ")\n",
    "m2 = julian.from_jd(m1, fmt=\"mjd\")\n",
    "moonrise_24time = m2.strftime((\"%H:%M\"))\n",
    "moonrise_12time = m2.strftime(\"%m-%d-%y %I:%M %p\")\n",
    "print(moonrise_12time)\n",
    "\n",
    "m3 = (\n",
    "    float(\n",
    "        str(\n",
    "            location1.moon_set_time(\n",
    "                Time(\"2021-03-09 15:00:00.000\"), which=\"nearest\"\n",
    "            )\n",
    "        )\n",
    "    )\n",
    "    - 2400000.5\n",
    "    - (6 * (0.5 / 12))\n",
    ")\n",
    "m4 = julian.from_jd(m3, fmt=\"mjd\")\n",
    "moonset_24time = m4.strftime((\"%H:%M\"))\n",
    "moonset_12time = m4.strftime(\"%m-%d-%y %I:%M %p\")\n",
    "print(moonset_12time)"
   ]
  },
  {
   "cell_type": "code",
   "execution_count": null,
   "metadata": {
    "id": "B8hCfC1kd3Ty"
   },
   "outputs": [],
   "source": [
    "local_time = []\n",
    "mjd_time = []\n",
    "temp = []\n",
    "voltage = []\n",
    "\n",
    "\n",
    "mjd_evening1 = []\n",
    "evening_frequency1 = []\n",
    "\n",
    "evening_temp1 = []\n",
    "morning_temp1 = []\n",
    "\n",
    "\n",
    "evening_voltage1 = []\n",
    "morning_voltage1 = []\n",
    "\n",
    "mjd_morning1 = []\n",
    "morning_frequency1 = []\n",
    "\n",
    "local_time1 = []\n",
    "local_time2 = []\n",
    "\n",
    "for i in range(len(evening_mjd_time)):\n",
    "    if evening_mjd_time[i] >= evening:\n",
    "        mjd_evening1.append(evening_mjd_time[i])\n",
    "        evening_frequency1.append(evening_frequency[i])\n",
    "        local_time1.append(evening_time[i])\n",
    "        evening_temp1.append(evening_temp[i])\n",
    "        evening_voltage1.append(evening_voltage[i])\n",
    "        # feb26a_local.append(feb26_local[i])\n",
    "\n",
    "\n",
    "for i in range(len(morning_mjd_time)):\n",
    "    if morning_mjd_time[i] <= morning:\n",
    "        mjd_morning1.append(morning_mjd_time[i])\n",
    "        morning_frequency1.append(morning_frequency[i])\n",
    "        local_time2.append(morning_time[i])\n",
    "        morning_temp1.append(morning_temp[i])\n",
    "        morning_voltage1.append(morning_voltage[i])\n",
    "\n",
    "\n",
    "frequency = evening_frequency1 + morning_frequency1\n",
    "mjd_time = mjd_evening1 + mjd_morning1\n",
    "local_time = local_time1 + local_time2\n",
    "temp = evening_temp1 + morning_temp1\n",
    "voltage = evening_voltage1 + morning_voltage1\n",
    "\n",
    "local_12time = []\n",
    "\n",
    "# frequency =  np.array(frequency)\n",
    "# mjd_time = np.array(mjd_time)\n",
    "\n",
    "\n",
    "# convert local_time array from strings in 24 time to string objects in 12 hour time\n",
    "for i in range(len(local_time)):\n",
    "    x1 = local_time[i]\n",
    "    x2 = datetime.strptime(x1, \"%H:%M:%S\")\n",
    "    local_12time.append(x2.strftime(\"%I:%M %p\"))\n",
    "\n",
    "# print(local_time[0],local_time[10],local_time[20],local_time[30],local_time[40],local_time[50])\n",
    "# print(local_12time[0],local_12time[10],local_12time[20],local_12time[30],local_12time[40],local_12time[50])"
   ]
  },
  {
   "cell_type": "code",
   "execution_count": null,
   "metadata": {
    "id": "tpJ0zMkod3T0"
   },
   "outputs": [],
   "source": [
    "# print(local_time)\n",
    "min_frequency = float(min(frequency))\n",
    "y_min = min_frequency - 10\n",
    "\n",
    "max_frequency = float(max(frequency))\n",
    "y_max = max_frequency + 10\n",
    "\n",
    "\n",
    "mean_freq = str(round((sum(frequency) / len(frequency)), 2))\n",
    "median_freq = str(round(statistics.median(frequency), 2))"
   ]
  },
  {
   "cell_type": "code",
   "execution_count": null,
   "metadata": {
    "id": "mf-pcvm6d3T1",
    "outputId": "f360298d-5b53-4464-9c8c-9820e01870ea"
   },
   "outputs": [
    {
     "data": {
      "image/png": "[encoded data removed]",
      "text/plain": [
       "<Figure size 1080x720 with 1 Axes>"
      ]
     },
     "metadata": {
      "needs_background": "light"
     },
     "output_type": "display_data"
    }
   ],
   "source": [
    "# plt.figure(figsize=(15,10))\n",
    "# plt.plot(mjd_time,frequency,color='k', linewidth = 1)\n",
    "##plt.xticks(['21:00:05.000','00:00:05.000','03:00:05.000'])\n",
    "# plt.xticks(rotation = 45,ha = 'right')\n",
    "##plt.axhline(np.mean(feb26a_msas),linestyle = '--')\n",
    "##plt.text(min())\n",
    "# plt.ylim(0,60)\n",
    "# plt.show()\n",
    "\n",
    "\n",
    "plt.figure(figsize=(15, 10))\n",
    "plt.plot(local_12time, frequency, color=\"k\", linewidth=1)\n",
    "# plt.xticks(local_time, values)\n",
    "# plt.xticks(['21:00:01','00:00:01','03:00:00'],fontsize = 12)\n",
    "\n",
    "plt.xticks(\n",
    "    [\n",
    "        \"08:00 PM\",\n",
    "        \"09:00 PM\",\n",
    "        \"10:00 PM\",\n",
    "        \"11:00 PM\",\n",
    "        \"12:00 AM\",\n",
    "        \"01:00 AM\",\n",
    "        \"02:00 AM\",\n",
    "        \"03:00 AM\",\n",
    "        \"04:00 AM\",\n",
    "        \"05:00 AM\",\n",
    "    ],\n",
    "    fontsize=12,\n",
    ")\n",
    "plt.xticks(rotation=45, ha=\"right\")\n",
    "plt.yticks(fontsize=12)\n",
    "plt.title(evening_date + \" Dark Sky Observation\", fontsize=20)\n",
    "plt.xlabel(\"Local Time\", fontsize=20)\n",
    "plt.ylabel(\"Light Frequency\", fontsize=20)\n",
    "plt.ylim(y_min, y_max)\n",
    "plt.text(local_12time[0], y_max - 1, \"Sunset: \" + sunset_12time, fontsize=12)\n",
    "plt.text(\n",
    "    local_12time[0], y_max - 1.75, \"Sunrise: \" + sunrise_12time, fontsize=12\n",
    ")\n",
    "plt.text(\n",
    "    local_12time[0], y_max - 2.5, \"Moon Phase: \" + moon_phase[0], fontsize=12\n",
    ")\n",
    "plt.text(\n",
    "    local_12time[0], y_max - 3.25, \"Moon Rise: \" + moonrise_12time, fontsize=12\n",
    ")\n",
    "plt.text(local_12time[0], y_max - 4, \"Moon Set: \" + moonset_12time, fontsize=12)\n",
    "plt.text(\n",
    "    local_12time[0],\n",
    "    y_min + 1,\n",
    "    \"Avg. Frequency: \" + mean_freq + \" Hz\",\n",
    "    fontsize=12,\n",
    ")\n",
    "plt.text(\n",
    "    local_12time[0],\n",
    "    y_min + 1.75,\n",
    "    \"Meadian Frequency: \" + median_freq + \" Hz\",\n",
    "    fontsize=12,\n",
    ")\n",
    "plt.show()\n",
    "## TO DO: save plt as png\n",
    "\n",
    "# plt.figure(figsize=(15,10))\n",
    "# lt.plot(mjd_time,temp,color='k', linewidth = 1)\n",
    "# plt.xticks(['21:00:05.000','00:00:05.000','03:00:05.000'])\n",
    "# plt.xticks(rotation = 45,ha = 'right')\n",
    "# plt.axhline(np.mean(feb26a_msas),linestyle = '--')\n",
    "# plt.text(min())\n",
    "# plt.ylim(0,60)\n",
    "# plt.show()"
   ]
  },
  {
   "cell_type": "code",
   "execution_count": null,
   "metadata": {
    "id": "FEMzEkkwd3T2"
   },
   "outputs": [],
   "source": [
    "#### upload plot png to"
   ]
  }
 ],
 "metadata": {
  "kernelspec": {
   "display_name": "Python 3",
   "language": "python",
   "name": "python3"
  },
  "language_info": {
   "codemirror_mode": {
    "name": "ipython",
    "version": 3
   },
   "file_extension": ".py",
   "mimetype": "text/x-python",
   "name": "python",
   "nbconvert_exporter": "python",
   "pygments_lexer": "ipython3",
   "version": "3.8.3"
  },
  "colab": {
   "name": "LENSS Sensor Original.ipynb",
   "provenance": []
  }
 },
 "nbformat": 4,
 "nbformat_minor": 0
}