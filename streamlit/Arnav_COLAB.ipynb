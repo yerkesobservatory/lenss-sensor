{
  "nbformat": 4,
  "nbformat_minor": 0,
  "metadata": {
    "colab": {
      "provenance": []
    },
    "kernelspec": {
      "name": "python3",
      "display_name": "Python 3"
    },
    "language_info": {
      "name": "python"
    }
  },
  "cells": [
    {
      "cell_type": "code",
      "execution_count": 1,
      "metadata": {
        "id": "jwbKiAwrfbWs"
      },
      "outputs": [],
      "source": [
        "### Setting Things UP\n",
        "# Imports\n",
        "import glob\n",
        "import os\n",
        "import re\n",
        "import astropy.table\n",
        "import pandas as pd\n",
        "import matplotlib.pyplot as plt"
      ]
    },
    {
      "cell_type": "code",
      "source": [
        "from google.colab import drive\n",
        "drive.mount('/content/drive')"
      ],
      "metadata": {
        "colab": {
          "base_uri": "https://localhost:8080/"
        },
        "id": "pXlfL3UxfhP2",
        "outputId": "cdf7faf9-8fbe-418b-a2a1-6041245a85a2"
      },
      "execution_count": 2,
      "outputs": [
        {
          "output_type": "stream",
          "name": "stdout",
          "text": [
            "Mounted at /content/drive\n"
          ]
        }
      ]
    },
    {
      "cell_type": "markdown",
      "source": [
        "Import the data from the LENSS_TSL_0008 folder and format into a Pandas dataframe"
      ],
      "metadata": {
        "id": "92_bp2FeoKU5"
      }
    },
    {
      "cell_type": "code",
      "source": [
        "# Get the file names and printf first few lines\n",
        "datafolder = '/content/drive/My Drive/UChicago Undergrad/Second Year/Metcalf GLAS Project/Data/Sensors Data/LENSS_TSL_0008/LENS/_T/'\n",
        "directory_files = os.listdir(datafolder)\n",
        "\n",
        "df = pd.DataFrame()\n",
        "for file in directory_files:\n",
        "    df_file = pd.read_csv(os.path.join(datafolder, file), low_memory=False, sep=\";\", names = ['Time (UTC)','Time (CST)','Temperature','Frequency','Voltage','Sensor'])\n",
        "    df = pd.concat([df, df_file], ignore_index=True)"
      ],
      "metadata": {
        "id": "jWDlTACJf0iQ"
      },
      "execution_count": 3,
      "outputs": []
    },
    {
      "cell_type": "code",
      "source": [
        "import datetime\n",
        "from datetime import date, timedelta\n",
        "\n",
        "# Assuming the timestamp column is stored in a variable called \"timestamp_str\"\n",
        "timestamp_format = '%Y-%m-%dT%H:%M:%S.%f'  # Define the format of the timestamp\n",
        "\n",
        "df['Time'] = pd.to_datetime(df['Time'], format='%Y-%m-%dT%H:%M:%S.%f')\n",
        "df[\"Time (UTC)\"] = pd.to_datetime(df['Time (UTC)'], format='%Y-%m-%dT%H:%M:%S.%f')\n",
        "\n",
        "df[\"Day\"] = df[\"Time (UTC)\"].dt.day\n",
        "df[\"Month\"] = df[\"Time (UTC)\"].dt.month\n",
        "df[\"Year\"] = df[\"Time (UTC)\"].dt.year\n",
        "\n",
        "df[\"Date\"] = df[\"Time (UTC)\"].apply(lambda x: x.date())"
      ],
      "metadata": {
        "id": "GHqKjhO8gRwi"
      },
      "execution_count": null,
      "outputs": []
    },
    {
      "cell_type": "code",
      "source": [
        "sdate, edate = (df['Date'].min(), df['Date'].max())\n",
        "all_dates = [sdate+timedelta(days=x) for x in range((edate-sdate).days)]"
      ],
      "metadata": {
        "id": "Vvy-J6EPu3Z6"
      },
      "execution_count": null,
      "outputs": []
    },
    {
      "cell_type": "markdown",
      "source": [
        "Remove days/times where the sky is not clear"
      ],
      "metadata": {
        "id": "h-RW3fKqoRLa"
      }
    },
    {
      "cell_type": "code",
      "source": [
        "import requests\n",
        "\n",
        "date = '2023-03-27'\n",
        "lat = '37.7749'  # latitude of the location\n",
        "lon = '-122.4194'  # longitude of the location\n",
        "\n",
        "#url = f'https://api.openweathermap.org/data/2.5/onecall/timemachine?lat={lat}&lon={lon}&dt={date}&appid={api_key}'\n",
        "#url = f'http://api.openweathermap.org/data/2.5/forecast?id=524901&appid={api_key}'\n",
        "\n",
        "url = f'https://api.openweathermap.org/data/2.5/onecall?lat={lat}&lon={lon}&exclude=current,minutely,daily,alerts&dt={date}&appid={api_key}'\n",
        "\n",
        "response = requests.get(url)\n",
        "\n",
        "# check that response was successful\n",
        "if response.status_code == 200:\n",
        "    data = response.json()\n",
        "else:\n",
        "    print(f'Request failed with status code {response.status_code}')"
      ],
      "metadata": {
        "colab": {
          "base_uri": "https://localhost:8080/"
        },
        "id": "29-PU9DqkxD3",
        "outputId": "461d2f70-2ce7-4dda-9018-cf8bbb67f008"
      },
      "execution_count": null,
      "outputs": [
        {
          "output_type": "stream",
          "name": "stdout",
          "text": [
            "Request failed with status code 401\n"
          ]
        }
      ]
    },
    {
      "cell_type": "code",
      "source": [
        "data"
      ],
      "metadata": {
        "id": "CwPBpRlqvckx"
      },
      "execution_count": null,
      "outputs": []
    },
    {
      "cell_type": "code",
      "source": [
        "if 'hourly' in data:\n",
        "    hourly_data = data['hourly']\n",
        "    cloud_cover = sum(hourly['clouds'] for hourly in hourly_data) / len(hourly_data)  # calculate average cloud cover\n",
        "    \n",
        "    if cloud_cover < 10:  # check if cloud cover is below 10%\n",
        "        print('The sky was clear')\n",
        "    else:\n",
        "        print('The sky was not clear')\n",
        "else:\n",
        "    print('No hourly data found')"
      ],
      "metadata": {
        "id": "UrOaYkDvqoGw"
      },
      "execution_count": null,
      "outputs": []
    },
    {
      "cell_type": "markdown",
      "source": [
        "Find the moon illumination"
      ],
      "metadata": {
        "id": "yxtwXPwbsl1O"
      }
    },
    {
      "cell_type": "code",
      "source": [
        "%pip install astroplan"
      ],
      "metadata": {
        "id": "_kMBH-qHB8WY"
      },
      "execution_count": null,
      "outputs": []
    },
    {
      "cell_type": "code",
      "source": [
        "from astroplan import Observer\n",
        "import astropy.units as astro_units\n",
        "from astropy.time import Time"
      ],
      "metadata": {
        "id": "odXoJ0F4slAj"
      },
      "execution_count": null,
      "outputs": []
    },
    {
      "cell_type": "code",
      "source": [
        "SENSOR_LONGITUDE = -88.5375518*astro_units.deg\n",
        "SENSOR_LATITUDE = 42.587277*astro_units.deg\n",
        "SENSOR_ELEVATION = 879*astro_units.m\n",
        "sensor_location = Observer(longitude=SENSOR_LONGITUDE, latitude=SENSOR_LATITUDE, elevation=SENSOR_ELEVATION)"
      ],
      "metadata": {
        "id": "TEA29LaFslKg"
      },
      "execution_count": null,
      "outputs": []
    },
    {
      "cell_type": "code",
      "source": [
        "dates_seen = {}\n",
        "moon_values = []\n",
        "for i, row in df.iloc[:1000, :].iterrows():\n",
        "  timestamp = row[\"Time (UTC)\"]\n",
        "  evening_date = str(timestamp.date())\n",
        "  evening_twilight = str(evening_date) + ' 16:00:00.000'\n",
        "  \n",
        "  dates_seen[evening_date] = dates_seen.get(evening_date, float(str(sensor_location.moon_illumination(evening_twilight))))\n",
        "  moon_values.append(dates_seen[evening_date])\n",
        "\n",
        "dates_seen"
      ],
      "metadata": {
        "colab": {
          "base_uri": "https://localhost:8080/"
        },
        "id": "7e09OiA-va7E",
        "outputId": "4794c104-8ecd-47ee-d4d3-b213156587c3"
      },
      "execution_count": null,
      "outputs": [
        {
          "output_type": "execute_result",
          "data": {
            "text/plain": [
              "{'2022-08-23': 0.12448116142774585}"
            ]
          },
          "metadata": {},
          "execution_count": 44
        }
      ]
    }
  ]
}