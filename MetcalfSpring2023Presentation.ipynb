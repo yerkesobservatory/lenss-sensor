{
 "cells": [
  {
   "attachments": {},
   "cell_type": "markdown",
   "id": "8105ea32",
   "metadata": {},
   "source": [
    "## <center>Metcalf Clinic Spring 2023 Capstone Presentation</center>"
   ]
  },
  {
   "attachments": {},
   "cell_type": "markdown",
   "id": "ad3bf261",
   "metadata": {},
   "source": [
    "**Team members:** Alena Zeng, Arnav Brahmasandra, Avery Metzcar, Carmen Granell, Fatimah Jallow \\\n",
    "**Advisor:** Michael Plunkett\n",
    "\n",
    "**Section leads:**\n",
    "- **Data Visualization:** Alena Zeng\n",
    "- **Data Analysis:** Fatimah Jallow\n",
    "- **Outreach:** Carmen Granell\n",
    "- **Calibration:** Avery Metzcar"
   ]
  },
  {
   "cell_type": "code",
   "execution_count": null,
   "id": "387f7fda",
   "metadata": {},
   "outputs": [],
   "source": [
    "# example of data analysis work for ./data_analysis/service.py\n",
    "# should allow you to create and export a night record\n",
    "# further code can be added to examine/manipulate the record's contents if you want\n",
    "# very little testing done with the drive connection, so be careful with interaction\n",
    "# I would recommend creating a junk folder + files to try this out with first\n",
    "from .data_analysis.night_record import NewNightRecord\n",
    "from astropy.time import Time\n",
    "from datetime import datetime\n",
    "from datetime import timedelta\n",
    "\n",
    "\n",
    "def analysis_example(\n",
    "    path_to_directory, sensor_name, sensor_lat, sensor_long, path_to_export\n",
    "):\n",
    "    today = datetime.today()\n",
    "    night_date = today - timedelta(days=2)\n",
    "    night_str = night_date.strftime(\"%Y-%m-%d\")\n",
    "    morning_date = today - timedelta(days=1)\n",
    "    morning_str = morning_date.strftime(\"%Y-%m-%d\")\n",
    "\n",
    "    night_file = path_to_directory + night_str + \"_\" + sensor_name + \".txt\"\n",
    "    morning_file = path_to_directory + morning_str + \"_\" + sensor_name + \".txt\"\n",
    "\n",
    "    record = NewNightRecord(\n",
    "        Time(night_str + \" 12:00:00.0\"),\n",
    "        night_file,\n",
    "        Time(morning_str + \" 12:00:00.0\"),\n",
    "        morning_file,\n",
    "        sensor_lat,\n",
    "        sensor_long,\n",
    "    )\n",
    "\n",
    "    # manipulate and check record contents here\n",
    "    # apply corrections, check values, etc\n",
    "\n",
    "    record.rec_export(\n",
    "        path_to_export\n",
    "        + night_str\n",
    "        + \" to \"\n",
    "        + morning_str\n",
    "        + \" \"\n",
    "        + sensor_name\n",
    "        + \".txt\"\n",
    "    )"
   ]
  },
  {
   "cell_type": "code",
   "execution_count": null,
   "id": "d68020e7",
   "metadata": {},
   "outputs": [],
   "source": []
  }
 ],
 "metadata": {
  "kernelspec": {
   "display_name": "Python 3 (ipykernel)",
   "language": "python",
   "name": "python3"
  },
  "language_info": {
   "codemirror_mode": {
    "name": "ipython",
    "version": 3
   },
   "file_extension": ".py",
   "mimetype": "text/x-python",
   "name": "python",
   "nbconvert_exporter": "python",
   "pygments_lexer": "ipython3",
   "version": "3.11.3"
  }
 },
 "nbformat": 4,
 "nbformat_minor": 5
}
